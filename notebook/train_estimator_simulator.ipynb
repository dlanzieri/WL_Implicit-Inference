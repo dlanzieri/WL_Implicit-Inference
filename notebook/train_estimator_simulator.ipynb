{
 "cells": [
  {
   "cell_type": "code",
   "execution_count": 1,
   "id": "7bf69cfc-1b0e-4523-a4a4-31f78ebb7fbf",
   "metadata": {},
   "outputs": [
    {
     "name": "stdout",
     "output_type": "stream",
     "text": [
      "gpu\n"
     ]
    }
   ],
   "source": [
    "from jax.lib import xla_bridge\n",
    "print(xla_bridge.get_backend().platform)"
   ]
  },
  {
   "cell_type": "code",
   "execution_count": 2,
   "id": "ad368f3e-2941-428f-827e-7d7f6401574b",
   "metadata": {},
   "outputs": [
    {
     "name": "stdout",
     "output_type": "stream",
     "text": [
      "Populating the interactive namespace from numpy and matplotlib\n"
     ]
    },
    {
     "name": "stderr",
     "output_type": "stream",
     "text": [
      "/linkhome/rech/genmfd01/ulm75uc/.local/lib/python3.10/site-packages/flax/struct.py:144: FutureWarning: jax.tree_util.register_keypaths is deprecated, and will be removed in a future release. Please use `register_pytree_with_keys()` instead.\n",
      "  jax.tree_util.register_keypaths(data_clz, keypaths)\n",
      "2023-06-23 15:50:45.381778: W tensorflow/compiler/tf2tensorrt/utils/py_utils.cc:38] TF-TRT Warning: Could not find TensorRT\n",
      "/gpfslocalsup/pub/anaconda-py3/2021.05/envs/python-3.10.4/lib/python3.10/site-packages/requests/__init__.py:102: RequestsDependencyWarning: urllib3 (1.26.14) or chardet (5.1.0)/charset_normalizer (2.0.12) doesn't match a supported version!\n",
      "  warnings.warn(\"urllib3 ({}) or chardet ({})/charset_normalizer ({}) doesn't match a supported \"\n",
      "/linkhome/rech/genmfd01/ulm75uc/.local/lib/python3.10/site-packages/haiku/_src/data_structures.py:37: FutureWarning: jax.tree_structure is deprecated, and will be removed in a future release. Use jax.tree_util.tree_structure instead.\n",
      "  PyTreeDef = type(jax.tree_structure(None))\n",
      "/linkhome/rech/genmfd01/ulm75uc/.local/lib/python3.10/site-packages/lenstools/utils/mpi.py:15: UserWarning: Could not import mpi4py! (if you set sys.modules['mpi4py']=None please disregard this message)\n",
      "  warnings.warn(wmsg)\n"
     ]
    },
    {
     "data": {
      "text/plain": [
       "'unset XLA_FLAGS'"
      ]
     },
     "execution_count": 2,
     "metadata": {},
     "output_type": "execute_result"
    }
   ],
   "source": [
    "%load_ext autoreload\n",
    "%autoreload 2\n",
    "%pylab inline\n",
    "\n",
    "\n",
    "from functools import partial\n",
    "from tqdm import tqdm\n",
    "import pickle\n",
    "from pathlib import Path\n",
    "import tensorboard\n",
    "import numpy as np\n",
    "import jax\n",
    "import jax.numpy as jnp\n",
    "\n",
    "import flax.linen as nn\n",
    "from flax.metrics import tensorboard\n",
    "\n",
    "from haiku._src.nets.resnet import ResNet18\n",
    "import optax\n",
    "import haiku as hk\n",
    "\n",
    "import tensorflow_datasets as tfds\n",
    "import tensorflow as tf\n",
    "from tensorflow_probability.substrates import jax as tfp\n",
    "\n",
    "tfd = tfp.distributions\n",
    "tfb = tfp.bijectors\n",
    "tfd = tfp.distributions\n",
    "\n",
    "from sbi_lens.gen_dataset.lensing_lognormal_dataset import LensingLogNormalDataset\n",
    "from sbi_lens.normflow.models import AffineSigmoidCoupling, ConditionalRealNVP, AffineCoupling\n",
    "\n",
    "from sbi_lens.gen_dataset.utils import augmentation_noise, augmentation_flip\n",
    "from sbi_lens.config import config_lsst_y_10\n",
    "\n",
    "\n",
    "import cmasher as cmr\n",
    "from chainconsumer import ChainConsumer\n",
    "\n",
    "'unset XLA_FLAGS'"
   ]
  },
  {
   "cell_type": "markdown",
   "id": "2f8a2827-9c6c-4ae3-8dd1-daba54109b64",
   "metadata": {},
   "source": [
    "#### Deal with Warnings "
   ]
  },
  {
   "cell_type": "code",
   "execution_count": 3,
   "id": "08e09a99-797b-4b20-a903-20e316365f28",
   "metadata": {},
   "outputs": [
    {
     "data": {
      "text/plain": [
       "<tfp.distributions.TransformedDistribution 'identityNormal' batch_shape=[] event_shape=[] dtype=float32>"
      ]
     },
     "execution_count": 3,
     "metadata": {},
     "output_type": "execute_result"
    }
   ],
   "source": [
    "import logging\n",
    "\n",
    "\n",
    "import tensorflow_probability as tfp; tfp = tfp.substrates.jax\n",
    "\n",
    "\n",
    "tfp.distributions.TransformedDistribution(\n",
    "    tfp.distributions.Normal(0.0, 1.0), tfp.bijectors.Identity()\n",
    ")\n",
    "\n",
    "logger = logging.getLogger(\"root\")\n",
    "\n",
    "\n",
    "class CheckTypesFilter(logging.Filter):\n",
    "    def filter(self, record):\n",
    "        return \"check_types\" not in record.getMessage()\n",
    "\n",
    "\n",
    "logger.addFilter(CheckTypesFilter())\n",
    "\n",
    "\n",
    "tfp.distributions.TransformedDistribution(tfp.distributions.Normal(0.0, 1.0), tfp.bijectors.Identity())"
   ]
  },
  {
   "cell_type": "markdown",
   "id": "56a91d89-4e06-429c-805a-9fb4dff66745",
   "metadata": {},
   "source": [
    "### Load data"
   ]
  },
  {
   "cell_type": "code",
   "execution_count": 4,
   "id": "6586d7bd-dab4-489b-bf51-b2ffe3d73a59",
   "metadata": {},
   "outputs": [],
   "source": [
    "##################################################\n",
    "data = np.load(\"/gpfs7kw/linkhome/rech/genmfd01/ulm75uc/VMIM-vs-MSE-/notebook/LOADED&COMPRESSED_vmim_year_10_without_noise_score_density.npz\", allow_pickle=True)\n",
    "sample=data['arr_0'].reshape(1)[0]"
   ]
  },
  {
   "cell_type": "markdown",
   "id": "4c860611-1729-4b84-8bfc-2f600702d845",
   "metadata": {
    "id": "4fa76e15-70f4-4d82-b5d1-f410439db650",
    "tags": []
   },
   "source": [
    "## Create NF for SBI"
   ]
  },
  {
   "cell_type": "code",
   "execution_count": 5,
   "id": "8c1470e2-8d0a-4775-9b6d-53260a28ce6d",
   "metadata": {
    "id": "8c1470e2-8d0a-4775-9b6d-53260a28ce6d"
   },
   "outputs": [],
   "source": [
    "bijector_layers = [128] * 2\n",
    "\n",
    "bijector= partial(\n",
    "  AffineCoupling,\n",
    "  layers=bijector_layers,\n",
    "  activation=jax.nn.silu\n",
    ")\n",
    "\n",
    "NF= partial(\n",
    "  ConditionalRealNVP,\n",
    "  n_layers=4,\n",
    "  bijector_fn=bijector\n",
    ")\n",
    "\n",
    "class Flow_nd(hk.Module):\n",
    "    def __call__(self, y):\n",
    "        nvp = NF(6)(y)\n",
    "        return nvp\n",
    "\n"
   ]
  },
  {
   "cell_type": "code",
   "execution_count": 6,
   "id": "1ad16d53-0080-480d-834e-28a4bd79775d",
   "metadata": {},
   "outputs": [
    {
     "name": "stderr",
     "output_type": "stream",
     "text": [
      "/linkhome/rech/genmfd01/ulm75uc/.local/lib/python3.10/site-packages/haiku/_src/data_structures.py:206: FutureWarning: jax.tree_flatten is deprecated, and will be removed in a future release. Use jax.tree_util.tree_flatten instead.\n",
      "  leaves, structure = jax.tree_flatten(mapping)\n"
     ]
    }
   ],
   "source": [
    "nvp_nd = hk.without_apply_rng(\n",
    "  hk.transform(\n",
    "    lambda theta, y : Flow_nd()(y).log_prob(theta).squeeze()\n",
    "  )\n",
    " )\n",
    "params_nd = nvp_nd.init(jax.random.PRNGKey(42), 0.5*jnp.ones([1,6]), 0.5*jnp.ones([1,6]))"
   ]
  },
  {
   "cell_type": "markdown",
   "id": "a2eb89ae-e99c-4248-a16f-946a6125375d",
   "metadata": {},
   "source": [
    "### Define loss function and update function"
   ]
  },
  {
   "cell_type": "code",
   "execution_count": 7,
   "id": "8123cdad-e43c-471f-bc85-978db14cd2a6",
   "metadata": {},
   "outputs": [],
   "source": [
    "def loss_nll(params, theta, y_s):\n",
    "\n",
    "    log_prob = nvp_nd.apply(\n",
    "        params,\n",
    "        theta,\n",
    "        y_s\n",
    "    )\n",
    "    return -jnp.mean(log_prob), _\n",
    "\n",
    "@jax.jit    \n",
    "def update(\n",
    "    params,\n",
    "    opt_state,\n",
    "    theta,\n",
    "    y_s\n",
    "  ):\n",
    "\n",
    "    (loss, _), grads = jax.value_and_grad(\n",
    "      loss_nll,\n",
    "      has_aux=True\n",
    "    )(params, theta, y_s)\n",
    "\n",
    "    updates, new_opt_state = optimizer.update(\n",
    "      grads,\n",
    "      opt_state\n",
    "    )\n",
    "\n",
    "    new_params = optax.apply_updates(\n",
    "      params,\n",
    "      updates\n",
    "    )\n",
    "\n",
    "    return loss, new_params, new_opt_state"
   ]
  },
  {
   "cell_type": "code",
   "execution_count": 8,
   "id": "7d19382e-bd0f-4829-854b-bb8641d6ff44",
   "metadata": {},
   "outputs": [],
   "source": [
    "\n",
    "total_steps = 10_000\n",
    "lr_scheduler = optax.piecewise_constant_schedule(\n",
    "    init_value=0.001,\n",
    "    boundaries_and_scales={int(total_steps*0.2):0.5,\n",
    "                           int(total_steps*0.4):0.5,\n",
    "                           int(total_steps*0.6):0.5,\n",
    "                           int(total_steps*0.8):0.5}\n",
    ")\n",
    "\n",
    "optimizer = optax.adam(learning_rate=lr_scheduler)\n",
    "opt_state_nd = optimizer.init(params_nd)\n"
   ]
  },
  {
   "cell_type": "markdown",
   "id": "dbdb56c6-5557-41d7-a8d8-65b8314709af",
   "metadata": {
    "id": "dbdb56c6-5557-41d7-a8d8-65b8314709af",
    "tags": []
   },
   "source": [
    "## Training"
   ]
  },
  {
   "cell_type": "code",
   "execution_count": 9,
   "id": "e0a67b80-4f86-4e74-bd67-9cea2281a668",
   "metadata": {
    "id": "e0a67b80-4f86-4e74-bd67-9cea2281a668"
   },
   "outputs": [
    {
     "name": "stderr",
     "output_type": "stream",
     "text": [
      "  0%|          | 0/10000 [00:00<?, ?it/s]/linkhome/rech/genmfd01/ulm75uc/.local/lib/python3.10/site-packages/haiku/_src/data_structures.py:214: FutureWarning: jax.tree_unflatten is deprecated, and will be removed in a future release. Use jax.tree_util.tree_unflatten instead.\n",
      "  self._mapping = jax.tree_unflatten(self._structure, self._leaves)\n",
      "100%|██████████| 10000/10000 [00:29<00:00, 340.72it/s]\n"
     ]
    }
   ],
   "source": [
    "\n",
    "batch_loss=[]\n",
    "for i in tqdm(range(total_steps)):\n",
    "    l, params_nd, opt_state_nd,=update(\n",
    "        params = params_nd, \n",
    "        opt_state=opt_state_nd,\n",
    "        ##################\n",
    "        theta = sample['theta'][i].reshape(1,6), \n",
    "        y_s=sample['theta_s'][i].reshape(1,6),\n",
    "    )\n",
    "\n",
    "    if jnp.isnan(l):\n",
    "      print('NaN Loss')\n",
    "      break\n",
    "    batch_loss.append(l)"
   ]
  },
  {
   "cell_type": "code",
   "execution_count": 10,
   "id": "5d072b68-14df-4ff1-916b-2fbc38ee9cb3",
   "metadata": {
    "id": "JHmV0JMekQDo"
   },
   "outputs": [
    {
     "data": {
      "text/plain": [
       "[<matplotlib.lines.Line2D at 0x14f64e18ed40>]"
      ]
     },
     "execution_count": 10,
     "metadata": {},
     "output_type": "execute_result"
    },
    {
     "data": {
      "image/png": "[encoded data removed]",
      "text/plain": [
       "<Figure size 432x288 with 1 Axes>"
      ]
     },
     "metadata": {
      "needs_background": "light"
     },
     "output_type": "display_data"
    }
   ],
   "source": [
    "\n",
    "plt.plot(batch_loss)"
   ]
  },
  {
   "cell_type": "code",
   "execution_count": 11,
   "id": "7e5fb7ae-d543-4ad9-b025-748262eeda91",
   "metadata": {},
   "outputs": [],
   "source": [
    "with open(\"/gpfsdswork/projects/rech/ykz/ulm75uc/VMIM-vs-MSE-/data/sample_nd_vmim.pkl\", 'rb') as g:\n",
    "    sample_nd_vmim = pickle.load(g) \n",
    "y= np.load(\"/linkhome/rech/genmfd01/ulm75uc/VMIM-vs-MSE-/notebook/COMPRESSED_fiducial_vmim_year_10_without_noise_score_density.npy\")"
   ]
  },
  {
   "cell_type": "code",
   "execution_count": 12,
   "id": "1e457393-20d8-46de-887b-974e238a1fc7",
   "metadata": {},
   "outputs": [],
   "source": [
    "\n",
    "nvp_sample_nd = hk.transform(\n",
    "    lambda x : Flow_nd()(x).sample(1000000, seed=hk.next_rng_key())\n",
    ")\n",
    "\n",
    "tfd= tfp.distributions\n",
    "tfb = tfp.bijectors\n",
    "sample_nd = nvp_sample_nd.apply(\n",
    "    params_nd, \n",
    "    rng = jax.random.PRNGKey(43), \n",
    "    x = y*jnp.ones([1000000,6])\n",
    ")"
   ]
  },
  {
   "cell_type": "code",
   "execution_count": 13,
   "id": "943cd114-be28-4a5c-8eae-ed26d54c6733",
   "metadata": {},
   "outputs": [
    {
     "data": {
      "image/png": "[encoded data removed]",
      "text/plain": [
       "<Figure size 792x792 with 36 Axes>"
      ]
     },
     "metadata": {
      "needs_background": "light"
     },
     "output_type": "display_data"
    }
   ],
   "source": [
    "name_parameters= ['$\\Omega_c$', '$\\Omega_b$', '$\\sigma_8$', '$h_0$', '$n_s$', '$w_0$']\n",
    "\n",
    "col = cmr.eclipse([0.,0,0.55,0.85]) \n",
    "fid_params=np.array([0.2664, 0.0492, 0.831,0.6727,0.9645, -1.0])\n",
    "\n",
    "c = ChainConsumer()\n",
    "\n",
    "c.add_chain([sample_nd[:,i] for i in range(6)], parameters= name_parameters, name = 'VMIM new')\n",
    "c.add_chain([sample_nd_vmim[:,i] for i in range(6)], parameters= name_parameters, name = 'VMIM old')\n",
    "fig = c.plotter.plot(truth=fid_params)\n",
    "fig.set_size_inches(2 + fig.get_size_inches())\n"
   ]
  },
  {
   "cell_type": "code",
   "execution_count": null,
   "id": "9e920ee7-574f-4407-8ddb-b9e75368770b",
   "metadata": {
    "id": "b344bda2-8fde-42d1-9dd4-0af782bf3e58"
   },
   "outputs": [],
   "source": [
    "\n",
    "# with open(\"params_nd_{}.pkl\".format(Train), \"wb\") as fp:\n",
    "#   pickle.dump(params_nd, fp)\n",
    "\n",
    "# with open(\"opt_state_nd_{}.pkl\".format(Train), \"wb\") as fp:\n",
    "#   pickle.dump(opt_state_nd, fp)\n",
    "\n",
    "# with open(\"sample_nd_{}.pkl\".format(Train), \"wb\") as fp:\n",
    "#   pickle.dump(sample_nd, fp)\n"
   ]
  }
 ],
 "metadata": {
  "accelerator": "GPU",
  "colab": {
   "collapsed_sections": [
    "2425d539-bdc6-45be-a5c0-7a0d3c9d8969",
    "41298e75-602a-4107-a0ee-f5e544c25d7b",
    "db6a7de9-b5fb-4c99-a0cb-4e0527312a48",
    "36765925-075b-4991-a2ef-7bd15bb83b22",
    "4fa76e15-70f4-4d82-b5d1-f410439db650",
    "dbdb56c6-5557-41d7-a8d8-65b8314709af",
    "6c4c2b95-005b-47c5-8e41-54af975491ef"
   ],
   "include_colab_link": true,
   "provenance": []
  },
  "gpuClass": "standard",
  "kernelspec": {
   "display_name": "python-3.10.4",
   "language": "python",
   "name": "module-conda-env-python-3.10.4"
  },
  "language_info": {
   "codemirror_mode": {
    "name": "ipython",
    "version": 3
   },
   "file_extension": ".py",
   "mimetype": "text/x-python",
   "name": "python",
   "nbconvert_exporter": "python",
   "pygments_lexer": "ipython3",
   "version": "3.10.4"
  },
  "widgets": {
   "application/vnd.jupyter.widget-state+json": {
    "0b7dc127afb6435cb2c16d02d2a8544c": {
     "model_module": "@jupyter-widgets/controls",
     "model_module_version": "1.5.0",
     "model_name": "DescriptionStyleModel",
     "state": {
      "_model_module": "@jupyter-widgets/controls",
      "_model_module_version": "1.5.0",
      "_model_name": "DescriptionStyleModel",
      "_view_count": null,
      "_view_module": "@jupyter-widgets/base",
      "_view_module_version": "1.2.0",
      "_view_name": "StyleView",
      "description_width": ""
     }
    },
    "1475e2188dce460887433ac88fee9a3c": {
     "model_module": "@jupyter-widgets/base",
     "model_module_version": "1.2.0",
     "model_name": "LayoutModel",
     "state": {
      "_model_module": "@jupyter-widgets/base",
      "_model_module_version": "1.2.0",
      "_model_name": "LayoutModel",
      "_view_count": null,
      "_view_module": "@jupyter-widgets/base",
      "_view_module_version": "1.2.0",
      "_view_name": "LayoutView",
      "align_content": null,
      "align_items": null,
      "align_self": null,
      "border": null,
      "bottom": null,
      "display": null,
      "flex": null,
      "flex_flow": null,
      "grid_area": null,
      "grid_auto_columns": null,
      "grid_auto_flow": null,
      "grid_auto_rows": null,
      "grid_column": null,
      "grid_gap": null,
      "grid_row": null,
      "grid_template_areas": null,
      "grid_template_columns": null,
      "grid_template_rows": null,
      "height": null,
      "justify_content": null,
      "justify_items": null,
      "left": null,
      "margin": null,
      "max_height": null,
      "max_width": null,
      "min_height": null,
      "min_width": null,
      "object_fit": null,
      "object_position": null,
      "order": null,
      "overflow": null,
      "overflow_x": null,
      "overflow_y": null,
      "padding": null,
      "right": null,
      "top": null,
      "visibility": null,
      "width": "20px"
     }
    },
    "15c4461aa194494e8c857029743013b5": {
     "model_module": "@jupyter-widgets/controls",
     "model_module_version": "1.5.0",
     "model_name": "HTMLModel",
     "state": {
      "_dom_classes": [],
      "_model_module": "@jupyter-widgets/controls",
      "_model_module_version": "1.5.0",
      "_model_name": "HTMLModel",
      "_view_count": null,
      "_view_module": "@jupyter-widgets/controls",
      "_view_module_version": "1.5.0",
      "_view_name": "HTMLView",
      "description": "",
      "description_tooltip": null,
      "layout": "IPY_MODEL_4d32fb5ded41439ab2febecc43a6f146",
      "placeholder": "​",
      "style": "IPY_MODEL_1e0f33a5fa6f40ef83aa96f2e59e48a0",
      "value": " 1/1 [16:06&lt;00:00, 966.26s/ splits]"
     }
    },
    "1821fa7b13d14ae68e8d4386c00b3713": {
     "model_module": "@jupyter-widgets/controls",
     "model_module_version": "1.5.0",
     "model_name": "HTMLModel",
     "state": {
      "_dom_classes": [],
      "_model_module": "@jupyter-widgets/controls",
      "_model_module_version": "1.5.0",
      "_model_name": "HTMLModel",
      "_view_count": null,
      "_view_module": "@jupyter-widgets/controls",
      "_view_module_version": "1.5.0",
      "_view_name": "HTMLView",
      "description": "",
      "description_tooltip": null,
      "layout": "IPY_MODEL_485dd95004da454b97fe8cf683f1f8b6",
      "placeholder": "​",
      "style": "IPY_MODEL_0b7dc127afb6435cb2c16d02d2a8544c",
      "value": "Generating splits...: 100%"
     }
    },
    "1e0f33a5fa6f40ef83aa96f2e59e48a0": {
     "model_module": "@jupyter-widgets/controls",
     "model_module_version": "1.5.0",
     "model_name": "DescriptionStyleModel",
     "state": {
      "_model_module": "@jupyter-widgets/controls",
      "_model_module_version": "1.5.0",
      "_model_name": "DescriptionStyleModel",
      "_view_count": null,
      "_view_module": "@jupyter-widgets/base",
      "_view_module_version": "1.2.0",
      "_view_name": "StyleView",
      "description_width": ""
     }
    },
    "20f1d1b5b43043d28d25b710f704d32f": {
     "model_module": "@jupyter-widgets/controls",
     "model_module_version": "1.5.0",
     "model_name": "FloatProgressModel",
     "state": {
      "_dom_classes": [],
      "_model_module": "@jupyter-widgets/controls",
      "_model_module_version": "1.5.0",
      "_model_name": "FloatProgressModel",
      "_view_count": null,
      "_view_module": "@jupyter-widgets/controls",
      "_view_module_version": "1.5.0",
      "_view_name": "ProgressView",
      "bar_style": "",
      "description": "",
      "description_tooltip": null,
      "layout": "IPY_MODEL_d4bfcf6d7923492fba166416394be94e",
      "max": 1,
      "min": 0,
      "orientation": "horizontal",
      "style": "IPY_MODEL_807509b008cc44c4813e9a7182fadc2c",
      "value": 1
     }
    },
    "237c2dfd68c64fc590861fba3ee9da52": {
     "model_module": "@jupyter-widgets/controls",
     "model_module_version": "1.5.0",
     "model_name": "HTMLModel",
     "state": {
      "_dom_classes": [],
      "_model_module": "@jupyter-widgets/controls",
      "_model_module_version": "1.5.0",
      "_model_name": "HTMLModel",
      "_view_count": null,
      "_view_module": "@jupyter-widgets/controls",
      "_view_module_version": "1.5.0",
      "_view_name": "HTMLView",
      "description": "",
      "description_tooltip": null,
      "layout": "IPY_MODEL_7f64686efd454858a3a455c7aa0c2ed4",
      "placeholder": "​",
      "style": "IPY_MODEL_8ac83bf2a11a4f05b7ce06be929a79e0",
      "value": " 99993/? [15:09&lt;00:00, 144.90 examples/s]"
     }
    },
    "2917a71c63814c3a9ac95a331780776f": {
     "model_module": "@jupyter-widgets/base",
     "model_module_version": "1.2.0",
     "model_name": "LayoutModel",
     "state": {
      "_model_module": "@jupyter-widgets/base",
      "_model_module_version": "1.2.0",
      "_model_name": "LayoutModel",
      "_view_count": null,
      "_view_module": "@jupyter-widgets/base",
      "_view_module_version": "1.2.0",
      "_view_name": "LayoutView",
      "align_content": null,
      "align_items": null,
      "align_self": null,
      "border": null,
      "bottom": null,
      "display": null,
      "flex": null,
      "flex_flow": null,
      "grid_area": null,
      "grid_auto_columns": null,
      "grid_auto_flow": null,
      "grid_auto_rows": null,
      "grid_column": null,
      "grid_gap": null,
      "grid_row": null,
      "grid_template_areas": null,
      "grid_template_columns": null,
      "grid_template_rows": null,
      "height": null,
      "justify_content": null,
      "justify_items": null,
      "left": null,
      "margin": null,
      "max_height": null,
      "max_width": null,
      "min_height": null,
      "min_width": null,
      "object_fit": null,
      "object_position": null,
      "order": null,
      "overflow": null,
      "overflow_x": null,
      "overflow_y": null,
      "padding": null,
      "right": null,
      "top": null,
      "visibility": "hidden",
      "width": null
     }
    },
    "30dd509e721e4cb098c13ddac29db553": {
     "model_module": "@jupyter-widgets/controls",
     "model_module_version": "1.5.0",
     "model_name": "HTMLModel",
     "state": {
      "_dom_classes": [],
      "_model_module": "@jupyter-widgets/controls",
      "_model_module_version": "1.5.0",
      "_model_name": "HTMLModel",
      "_view_count": null,
      "_view_module": "@jupyter-widgets/controls",
      "_view_module_version": "1.5.0",
      "_view_name": "HTMLView",
      "description": "",
      "description_tooltip": null,
      "layout": "IPY_MODEL_e0c45e3a66574b3886dc2164f18db88b",
      "placeholder": "​",
      "style": "IPY_MODEL_c52f590ef7754cbf903a9d3b9490688a",
      "value": "Generating train examples...: "
     }
    },
    "3fa74ae7434d40228e003b36e8ed62b2": {
     "model_module": "@jupyter-widgets/controls",
     "model_module_version": "1.5.0",
     "model_name": "HTMLModel",
     "state": {
      "_dom_classes": [],
      "_model_module": "@jupyter-widgets/controls",
      "_model_module_version": "1.5.0",
      "_model_name": "HTMLModel",
      "_view_count": null,
      "_view_module": "@jupyter-widgets/controls",
      "_view_module_version": "1.5.0",
      "_view_name": "HTMLView",
      "description": "",
      "description_tooltip": null,
      "layout": "IPY_MODEL_ebe780de3e264441b3eb6e01c252e613",
      "placeholder": "​",
      "style": "IPY_MODEL_544bd65d1c9040ca838afe3892a22dc6",
      "value": "Shuffling tensorflow_dataset/lensing_log_normal_dataset/toy_model_without_noise_score_density/0.0.1.incompleteOV1EEX/lensing_log_normal_dataset-train.tfrecord*...: 100%"
     }
    },
    "485dd95004da454b97fe8cf683f1f8b6": {
     "model_module": "@jupyter-widgets/base",
     "model_module_version": "1.2.0",
     "model_name": "LayoutModel",
     "state": {
      "_model_module": "@jupyter-widgets/base",
      "_model_module_version": "1.2.0",
      "_model_name": "LayoutModel",
      "_view_count": null,
      "_view_module": "@jupyter-widgets/base",
      "_view_module_version": "1.2.0",
      "_view_name": "LayoutView",
      "align_content": null,
      "align_items": null,
      "align_self": null,
      "border": null,
      "bottom": null,
      "display": null,
      "flex": null,
      "flex_flow": null,
      "grid_area": null,
      "grid_auto_columns": null,
      "grid_auto_flow": null,
      "grid_auto_rows": null,
      "grid_column": null,
      "grid_gap": null,
      "grid_row": null,
      "grid_template_areas": null,
      "grid_template_columns": null,
      "grid_template_rows": null,
      "height": null,
      "justify_content": null,
      "justify_items": null,
      "left": null,
      "margin": null,
      "max_height": null,
      "max_width": null,
      "min_height": null,
      "min_width": null,
      "object_fit": null,
      "object_position": null,
      "order": null,
      "overflow": null,
      "overflow_x": null,
      "overflow_y": null,
      "padding": null,
      "right": null,
      "top": null,
      "visibility": null,
      "width": null
     }
    },
    "4d32fb5ded41439ab2febecc43a6f146": {
     "model_module": "@jupyter-widgets/base",
     "model_module_version": "1.2.0",
     "model_name": "LayoutModel",
     "state": {
      "_model_module": "@jupyter-widgets/base",
      "_model_module_version": "1.2.0",
      "_model_name": "LayoutModel",
      "_view_count": null,
      "_view_module": "@jupyter-widgets/base",
      "_view_module_version": "1.2.0",
      "_view_name": "LayoutView",
      "align_content": null,
      "align_items": null,
      "align_self": null,
      "border": null,
      "bottom": null,
      "display": null,
      "flex": null,
      "flex_flow": null,
      "grid_area": null,
      "grid_auto_columns": null,
      "grid_auto_flow": null,
      "grid_auto_rows": null,
      "grid_column": null,
      "grid_gap": null,
      "grid_row": null,
      "grid_template_areas": null,
      "grid_template_columns": null,
      "grid_template_rows": null,
      "height": null,
      "justify_content": null,
      "justify_items": null,
      "left": null,
      "margin": null,
      "max_height": null,
      "max_width": null,
      "min_height": null,
      "min_width": null,
      "object_fit": null,
      "object_position": null,
      "order": null,
      "overflow": null,
      "overflow_x": null,
      "overflow_y": null,
      "padding": null,
      "right": null,
      "top": null,
      "visibility": null,
      "width": null
     }
    },
    "501eb8ee35d04be99b9354e95e80a177": {
     "model_module": "@jupyter-widgets/controls",
     "model_module_version": "1.5.0",
     "model_name": "ProgressStyleModel",
     "state": {
      "_model_module": "@jupyter-widgets/controls",
      "_model_module_version": "1.5.0",
      "_model_name": "ProgressStyleModel",
      "_view_count": null,
      "_view_module": "@jupyter-widgets/base",
      "_view_module_version": "1.2.0",
      "_view_name": "StyleView",
      "bar_color": null,
      "description_width": ""
     }
    },
    "544bd65d1c9040ca838afe3892a22dc6": {
     "model_module": "@jupyter-widgets/controls",
     "model_module_version": "1.5.0",
     "model_name": "DescriptionStyleModel",
     "state": {
      "_model_module": "@jupyter-widgets/controls",
      "_model_module_version": "1.5.0",
      "_model_name": "DescriptionStyleModel",
      "_view_count": null,
      "_view_module": "@jupyter-widgets/base",
      "_view_module_version": "1.2.0",
      "_view_name": "StyleView",
      "description_width": ""
     }
    },
    "5c80329934404e4296875311c92021cb": {
     "model_module": "@jupyter-widgets/controls",
     "model_module_version": "1.5.0",
     "model_name": "ProgressStyleModel",
     "state": {
      "_model_module": "@jupyter-widgets/controls",
      "_model_module_version": "1.5.0",
      "_model_name": "ProgressStyleModel",
      "_view_count": null,
      "_view_module": "@jupyter-widgets/base",
      "_view_module_version": "1.2.0",
      "_view_name": "StyleView",
      "bar_color": null,
      "description_width": ""
     }
    },
    "6377527360ba47acb7e57de953a44a72": {
     "model_module": "@jupyter-widgets/controls",
     "model_module_version": "1.5.0",
     "model_name": "FloatProgressModel",
     "state": {
      "_dom_classes": [],
      "_model_module": "@jupyter-widgets/controls",
      "_model_module_version": "1.5.0",
      "_model_name": "FloatProgressModel",
      "_view_count": null,
      "_view_module": "@jupyter-widgets/controls",
      "_view_module_version": "1.5.0",
      "_view_name": "ProgressView",
      "bar_style": "",
      "description": "",
      "description_tooltip": null,
      "layout": "IPY_MODEL_742c082845de416eb1d5e5fea3809262",
      "max": 100000,
      "min": 0,
      "orientation": "horizontal",
      "style": "IPY_MODEL_501eb8ee35d04be99b9354e95e80a177",
      "value": 100000
     }
    },
    "6867b730248d4b848db0caade632a374": {
     "model_module": "@jupyter-widgets/controls",
     "model_module_version": "1.5.0",
     "model_name": "HBoxModel",
     "state": {
      "_dom_classes": [],
      "_model_module": "@jupyter-widgets/controls",
      "_model_module_version": "1.5.0",
      "_model_name": "HBoxModel",
      "_view_count": null,
      "_view_module": "@jupyter-widgets/controls",
      "_view_module_version": "1.5.0",
      "_view_name": "HBoxView",
      "box_style": "",
      "children": [
       "IPY_MODEL_1821fa7b13d14ae68e8d4386c00b3713",
       "IPY_MODEL_20f1d1b5b43043d28d25b710f704d32f",
       "IPY_MODEL_15c4461aa194494e8c857029743013b5"
      ],
      "layout": "IPY_MODEL_2917a71c63814c3a9ac95a331780776f"
     }
    },
    "742c082845de416eb1d5e5fea3809262": {
     "model_module": "@jupyter-widgets/base",
     "model_module_version": "1.2.0",
     "model_name": "LayoutModel",
     "state": {
      "_model_module": "@jupyter-widgets/base",
      "_model_module_version": "1.2.0",
      "_model_name": "LayoutModel",
      "_view_count": null,
      "_view_module": "@jupyter-widgets/base",
      "_view_module_version": "1.2.0",
      "_view_name": "LayoutView",
      "align_content": null,
      "align_items": null,
      "align_self": null,
      "border": null,
      "bottom": null,
      "display": null,
      "flex": null,
      "flex_flow": null,
      "grid_area": null,
      "grid_auto_columns": null,
      "grid_auto_flow": null,
      "grid_auto_rows": null,
      "grid_column": null,
      "grid_gap": null,
      "grid_row": null,
      "grid_template_areas": null,
      "grid_template_columns": null,
      "grid_template_rows": null,
      "height": null,
      "justify_content": null,
      "justify_items": null,
      "left": null,
      "margin": null,
      "max_height": null,
      "max_width": null,
      "min_height": null,
      "min_width": null,
      "object_fit": null,
      "object_position": null,
      "order": null,
      "overflow": null,
      "overflow_x": null,
      "overflow_y": null,
      "padding": null,
      "right": null,
      "top": null,
      "visibility": null,
      "width": null
     }
    },
    "7a2bf92b1201442f9d287c79fc0ab0dc": {
     "model_module": "@jupyter-widgets/controls",
     "model_module_version": "1.5.0",
     "model_name": "FloatProgressModel",
     "state": {
      "_dom_classes": [],
      "_model_module": "@jupyter-widgets/controls",
      "_model_module_version": "1.5.0",
      "_model_name": "FloatProgressModel",
      "_view_count": null,
      "_view_module": "@jupyter-widgets/controls",
      "_view_module_version": "1.5.0",
      "_view_name": "ProgressView",
      "bar_style": "info",
      "description": "",
      "description_tooltip": null,
      "layout": "IPY_MODEL_1475e2188dce460887433ac88fee9a3c",
      "max": 1,
      "min": 0,
      "orientation": "horizontal",
      "style": "IPY_MODEL_5c80329934404e4296875311c92021cb",
      "value": 1
     }
    },
    "7f64686efd454858a3a455c7aa0c2ed4": {
     "model_module": "@jupyter-widgets/base",
     "model_module_version": "1.2.0",
     "model_name": "LayoutModel",
     "state": {
      "_model_module": "@jupyter-widgets/base",
      "_model_module_version": "1.2.0",
      "_model_name": "LayoutModel",
      "_view_count": null,
      "_view_module": "@jupyter-widgets/base",
      "_view_module_version": "1.2.0",
      "_view_name": "LayoutView",
      "align_content": null,
      "align_items": null,
      "align_self": null,
      "border": null,
      "bottom": null,
      "display": null,
      "flex": null,
      "flex_flow": null,
      "grid_area": null,
      "grid_auto_columns": null,
      "grid_auto_flow": null,
      "grid_auto_rows": null,
      "grid_column": null,
      "grid_gap": null,
      "grid_row": null,
      "grid_template_areas": null,
      "grid_template_columns": null,
      "grid_template_rows": null,
      "height": null,
      "justify_content": null,
      "justify_items": null,
      "left": null,
      "margin": null,
      "max_height": null,
      "max_width": null,
      "min_height": null,
      "min_width": null,
      "object_fit": null,
      "object_position": null,
      "order": null,
      "overflow": null,
      "overflow_x": null,
      "overflow_y": null,
      "padding": null,
      "right": null,
      "top": null,
      "visibility": null,
      "width": null
     }
    },
    "807509b008cc44c4813e9a7182fadc2c": {
     "model_module": "@jupyter-widgets/controls",
     "model_module_version": "1.5.0",
     "model_name": "ProgressStyleModel",
     "state": {
      "_model_module": "@jupyter-widgets/controls",
      "_model_module_version": "1.5.0",
      "_model_name": "ProgressStyleModel",
      "_view_count": null,
      "_view_module": "@jupyter-widgets/base",
      "_view_module_version": "1.2.0",
      "_view_name": "StyleView",
      "bar_color": null,
      "description_width": ""
     }
    },
    "845533ab0c4c444598b17d8f5d515843": {
     "model_module": "@jupyter-widgets/controls",
     "model_module_version": "1.5.0",
     "model_name": "DescriptionStyleModel",
     "state": {
      "_model_module": "@jupyter-widgets/controls",
      "_model_module_version": "1.5.0",
      "_model_name": "DescriptionStyleModel",
      "_view_count": null,
      "_view_module": "@jupyter-widgets/base",
      "_view_module_version": "1.2.0",
      "_view_name": "StyleView",
      "description_width": ""
     }
    },
    "88ffe6e8a40144399fbe5b77141ea81e": {
     "model_module": "@jupyter-widgets/controls",
     "model_module_version": "1.5.0",
     "model_name": "HTMLModel",
     "state": {
      "_dom_classes": [],
      "_model_module": "@jupyter-widgets/controls",
      "_model_module_version": "1.5.0",
      "_model_name": "HTMLModel",
      "_view_count": null,
      "_view_module": "@jupyter-widgets/controls",
      "_view_module_version": "1.5.0",
      "_view_name": "HTMLView",
      "description": "",
      "description_tooltip": null,
      "layout": "IPY_MODEL_f0117a6bfda7432e97d93603e1581ca4",
      "placeholder": "​",
      "style": "IPY_MODEL_845533ab0c4c444598b17d8f5d515843",
      "value": " 99916/100000 [00:56&lt;00:00, 1758.05 examples/s]"
     }
    },
    "8ac83bf2a11a4f05b7ce06be929a79e0": {
     "model_module": "@jupyter-widgets/controls",
     "model_module_version": "1.5.0",
     "model_name": "DescriptionStyleModel",
     "state": {
      "_model_module": "@jupyter-widgets/controls",
      "_model_module_version": "1.5.0",
      "_model_name": "DescriptionStyleModel",
      "_view_count": null,
      "_view_module": "@jupyter-widgets/base",
      "_view_module_version": "1.2.0",
      "_view_name": "StyleView",
      "description_width": ""
     }
    },
    "9bc1ee1f0dc247cb9bb6caae669d3a29": {
     "model_module": "@jupyter-widgets/base",
     "model_module_version": "1.2.0",
     "model_name": "LayoutModel",
     "state": {
      "_model_module": "@jupyter-widgets/base",
      "_model_module_version": "1.2.0",
      "_model_name": "LayoutModel",
      "_view_count": null,
      "_view_module": "@jupyter-widgets/base",
      "_view_module_version": "1.2.0",
      "_view_name": "LayoutView",
      "align_content": null,
      "align_items": null,
      "align_self": null,
      "border": null,
      "bottom": null,
      "display": null,
      "flex": null,
      "flex_flow": null,
      "grid_area": null,
      "grid_auto_columns": null,
      "grid_auto_flow": null,
      "grid_auto_rows": null,
      "grid_column": null,
      "grid_gap": null,
      "grid_row": null,
      "grid_template_areas": null,
      "grid_template_columns": null,
      "grid_template_rows": null,
      "height": null,
      "justify_content": null,
      "justify_items": null,
      "left": null,
      "margin": null,
      "max_height": null,
      "max_width": null,
      "min_height": null,
      "min_width": null,
      "object_fit": null,
      "object_position": null,
      "order": null,
      "overflow": null,
      "overflow_x": null,
      "overflow_y": null,
      "padding": null,
      "right": null,
      "top": null,
      "visibility": "hidden",
      "width": null
     }
    },
    "ad85cb1447b9438281dfce803e04db08": {
     "model_module": "@jupyter-widgets/controls",
     "model_module_version": "1.5.0",
     "model_name": "HBoxModel",
     "state": {
      "_dom_classes": [],
      "_model_module": "@jupyter-widgets/controls",
      "_model_module_version": "1.5.0",
      "_model_name": "HBoxModel",
      "_view_count": null,
      "_view_module": "@jupyter-widgets/controls",
      "_view_module_version": "1.5.0",
      "_view_name": "HBoxView",
      "box_style": "",
      "children": [
       "IPY_MODEL_30dd509e721e4cb098c13ddac29db553",
       "IPY_MODEL_7a2bf92b1201442f9d287c79fc0ab0dc",
       "IPY_MODEL_237c2dfd68c64fc590861fba3ee9da52"
      ],
      "layout": "IPY_MODEL_9bc1ee1f0dc247cb9bb6caae669d3a29"
     }
    },
    "c52f590ef7754cbf903a9d3b9490688a": {
     "model_module": "@jupyter-widgets/controls",
     "model_module_version": "1.5.0",
     "model_name": "DescriptionStyleModel",
     "state": {
      "_model_module": "@jupyter-widgets/controls",
      "_model_module_version": "1.5.0",
      "_model_name": "DescriptionStyleModel",
      "_view_count": null,
      "_view_module": "@jupyter-widgets/base",
      "_view_module_version": "1.2.0",
      "_view_name": "StyleView",
      "description_width": ""
     }
    },
    "d340c56763d94b18b1a3c72b2ef11311": {
     "model_module": "@jupyter-widgets/base",
     "model_module_version": "1.2.0",
     "model_name": "LayoutModel",
     "state": {
      "_model_module": "@jupyter-widgets/base",
      "_model_module_version": "1.2.0",
      "_model_name": "LayoutModel",
      "_view_count": null,
      "_view_module": "@jupyter-widgets/base",
      "_view_module_version": "1.2.0",
      "_view_name": "LayoutView",
      "align_content": null,
      "align_items": null,
      "align_self": null,
      "border": null,
      "bottom": null,
      "display": null,
      "flex": null,
      "flex_flow": null,
      "grid_area": null,
      "grid_auto_columns": null,
      "grid_auto_flow": null,
      "grid_auto_rows": null,
      "grid_column": null,
      "grid_gap": null,
      "grid_row": null,
      "grid_template_areas": null,
      "grid_template_columns": null,
      "grid_template_rows": null,
      "height": null,
      "justify_content": null,
      "justify_items": null,
      "left": null,
      "margin": null,
      "max_height": null,
      "max_width": null,
      "min_height": null,
      "min_width": null,
      "object_fit": null,
      "object_position": null,
      "order": null,
      "overflow": null,
      "overflow_x": null,
      "overflow_y": null,
      "padding": null,
      "right": null,
      "top": null,
      "visibility": "hidden",
      "width": null
     }
    },
    "d4bfcf6d7923492fba166416394be94e": {
     "model_module": "@jupyter-widgets/base",
     "model_module_version": "1.2.0",
     "model_name": "LayoutModel",
     "state": {
      "_model_module": "@jupyter-widgets/base",
      "_model_module_version": "1.2.0",
      "_model_name": "LayoutModel",
      "_view_count": null,
      "_view_module": "@jupyter-widgets/base",
      "_view_module_version": "1.2.0",
      "_view_name": "LayoutView",
      "align_content": null,
      "align_items": null,
      "align_self": null,
      "border": null,
      "bottom": null,
      "display": null,
      "flex": null,
      "flex_flow": null,
      "grid_area": null,
      "grid_auto_columns": null,
      "grid_auto_flow": null,
      "grid_auto_rows": null,
      "grid_column": null,
      "grid_gap": null,
      "grid_row": null,
      "grid_template_areas": null,
      "grid_template_columns": null,
      "grid_template_rows": null,
      "height": null,
      "justify_content": null,
      "justify_items": null,
      "left": null,
      "margin": null,
      "max_height": null,
      "max_width": null,
      "min_height": null,
      "min_width": null,
      "object_fit": null,
      "object_position": null,
      "order": null,
      "overflow": null,
      "overflow_x": null,
      "overflow_y": null,
      "padding": null,
      "right": null,
      "top": null,
      "visibility": null,
      "width": null
     }
    },
    "e0c45e3a66574b3886dc2164f18db88b": {
     "model_module": "@jupyter-widgets/base",
     "model_module_version": "1.2.0",
     "model_name": "LayoutModel",
     "state": {
      "_model_module": "@jupyter-widgets/base",
      "_model_module_version": "1.2.0",
      "_model_name": "LayoutModel",
      "_view_count": null,
      "_view_module": "@jupyter-widgets/base",
      "_view_module_version": "1.2.0",
      "_view_name": "LayoutView",
      "align_content": null,
      "align_items": null,
      "align_self": null,
      "border": null,
      "bottom": null,
      "display": null,
      "flex": null,
      "flex_flow": null,
      "grid_area": null,
      "grid_auto_columns": null,
      "grid_auto_flow": null,
      "grid_auto_rows": null,
      "grid_column": null,
      "grid_gap": null,
      "grid_row": null,
      "grid_template_areas": null,
      "grid_template_columns": null,
      "grid_template_rows": null,
      "height": null,
      "justify_content": null,
      "justify_items": null,
      "left": null,
      "margin": null,
      "max_height": null,
      "max_width": null,
      "min_height": null,
      "min_width": null,
      "object_fit": null,
      "object_position": null,
      "order": null,
      "overflow": null,
      "overflow_x": null,
      "overflow_y": null,
      "padding": null,
      "right": null,
      "top": null,
      "visibility": null,
      "width": null
     }
    },
    "e900c879829b41719e0ad248ddc9db45": {
     "model_module": "@jupyter-widgets/controls",
     "model_module_version": "1.5.0",
     "model_name": "HBoxModel",
     "state": {
      "_dom_classes": [],
      "_model_module": "@jupyter-widgets/controls",
      "_model_module_version": "1.5.0",
      "_model_name": "HBoxModel",
      "_view_count": null,
      "_view_module": "@jupyter-widgets/controls",
      "_view_module_version": "1.5.0",
      "_view_name": "HBoxView",
      "box_style": "",
      "children": [
       "IPY_MODEL_3fa74ae7434d40228e003b36e8ed62b2",
       "IPY_MODEL_6377527360ba47acb7e57de953a44a72",
       "IPY_MODEL_88ffe6e8a40144399fbe5b77141ea81e"
      ],
      "layout": "IPY_MODEL_d340c56763d94b18b1a3c72b2ef11311"
     }
    },
    "ebe780de3e264441b3eb6e01c252e613": {
     "model_module": "@jupyter-widgets/base",
     "model_module_version": "1.2.0",
     "model_name": "LayoutModel",
     "state": {
      "_model_module": "@jupyter-widgets/base",
      "_model_module_version": "1.2.0",
      "_model_name": "LayoutModel",
      "_view_count": null,
      "_view_module": "@jupyter-widgets/base",
      "_view_module_version": "1.2.0",
      "_view_name": "LayoutView",
      "align_content": null,
      "align_items": null,
      "align_self": null,
      "border": null,
      "bottom": null,
      "display": null,
      "flex": null,
      "flex_flow": null,
      "grid_area": null,
      "grid_auto_columns": null,
      "grid_auto_flow": null,
      "grid_auto_rows": null,
      "grid_column": null,
      "grid_gap": null,
      "grid_row": null,
      "grid_template_areas": null,
      "grid_template_columns": null,
      "grid_template_rows": null,
      "height": null,
      "justify_content": null,
      "justify_items": null,
      "left": null,
      "margin": null,
      "max_height": null,
      "max_width": null,
      "min_height": null,
      "min_width": null,
      "object_fit": null,
      "object_position": null,
      "order": null,
      "overflow": null,
      "overflow_x": null,
      "overflow_y": null,
      "padding": null,
      "right": null,
      "top": null,
      "visibility": null,
      "width": null
     }
    },
    "f0117a6bfda7432e97d93603e1581ca4": {
     "model_module": "@jupyter-widgets/base",
     "model_module_version": "1.2.0",
     "model_name": "LayoutModel",
     "state": {
      "_model_module": "@jupyter-widgets/base",
      "_model_module_version": "1.2.0",
      "_model_name": "LayoutModel",
      "_view_count": null,
      "_view_module": "@jupyter-widgets/base",
      "_view_module_version": "1.2.0",
      "_view_name": "LayoutView",
      "align_content": null,
      "align_items": null,
      "align_self": null,
      "border": null,
      "bottom": null,
      "display": null,
      "flex": null,
      "flex_flow": null,
      "grid_area": null,
      "grid_auto_columns": null,
      "grid_auto_flow": null,
      "grid_auto_rows": null,
      "grid_column": null,
      "grid_gap": null,
      "grid_row": null,
      "grid_template_areas": null,
      "grid_template_columns": null,
      "grid_template_rows": null,
      "height": null,
      "justify_content": null,
      "justify_items": null,
      "left": null,
      "margin": null,
      "max_height": null,
      "max_width": null,
      "min_height": null,
      "min_width": null,
      "object_fit": null,
      "object_position": null,
      "order": null,
      "overflow": null,
      "overflow_x": null,
      "overflow_y": null,
      "padding": null,
      "right": null,
      "top": null,
      "visibility": null,
      "width": null
     }
    }
   }
  }
 },
 "nbformat": 4,
 "nbformat_minor": 5
}
