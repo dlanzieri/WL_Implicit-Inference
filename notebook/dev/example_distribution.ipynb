{
 "cells": [
  {
   "cell_type": "code",
   "execution_count": 1,
   "id": "bef00676-1bc9-45c8-bd24-075aaf996008",
   "metadata": {},
   "outputs": [
    {
     "name": "stdout",
     "output_type": "stream",
     "text": [
      "Populating the interactive namespace from numpy and matplotlib\n"
     ]
    }
   ],
   "source": [
    "%pylab inline\n",
    "import numpy as np\n",
    "import matplotlib.pyplot as plt\n",
    "import seaborn as sn\n",
    "from sklearn import mixture\n",
    "from scipy.stats import norm"
   ]
  },
  {
   "cell_type": "code",
   "execution_count": 32,
   "id": "2914d936-2a4f-476f-a682-320667478081",
   "metadata": {},
   "outputs": [],
   "source": [
    "# set simulation parameters\n",
    "mean1, std1, w1 = 0,5,0.5\n",
    "mean2, std2, w2 = 17,33,1-w1\n",
    "\n",
    "\n",
    "# simulate constituents\n",
    "n_samples = 100000\n",
    "np.random.seed(2021)\n",
    "gauss_sample_1 = np.random.normal(loc = mean1,scale = std1,size = n_samples)\n",
    "gauss_sample_2 = np.random.normal(loc = mean2,scale = std2,size = n_samples)\n",
    "binomial = np.random.binomial(n=1, p=w1, size = n_samples)\n",
    "\n",
    "# simulate gaussian mixture\n",
    "mutlimodal_samples = (gauss_sample_1 * binomial + gauss_sample_2 * (1-binomial)).reshape(-1,1)\n",
    "\n",
    "# define and fit the mixture model\n",
    "gmix = mixture.GaussianMixture(n_components = 2, covariance_type = \"full\")\n",
    "fitted = gmix.fit(mutlimodal_samples)\n",
    "# Plot component pdfs and a joint pdf\n",
    "ls = np.linspace(-50, 100, 1000)\n",
    "new_norm1 = norm.pdf(ls, fitted.means_[0][0], np.sqrt(fitted.covariances_[0][0][0]))\n",
    "new_norm2 = norm.pdf(ls, fitted.means_[1][0], np.sqrt(fitted.covariances_[1][0][0]))\n",
    "multi_pdf = w1*new_norm1 + (1-w1)*new_norm2\n"
   ]
  },
  {
   "cell_type": "code",
   "execution_count": null,
   "id": "cbe964c4-fb8f-45dc-931a-cd5ac5eb376c",
   "metadata": {},
   "outputs": [
    {
     "data": {
      "text/plain": [
       "100000"
      ]
     },
     "execution_count": 25,
     "metadata": {},
     "output_type": "execute_result"
    }
   ],
   "source": [
    "n_samples."
   ]
  },
  {
   "cell_type": "code",
   "execution_count": 33,
   "id": "fd94dacc-c24b-4e03-96a2-b01f3d796782",
   "metadata": {},
   "outputs": [],
   "source": [
    "new_norm1 = norm.pdf(ls, fitted.means_[0][0], np.sqrt(fitted.covariances_[0][0][0]))\n",
    "new_norm2 = norm.pdf(ls, fitted.means_[1][0], np.sqrt(fitted.covariances_[1][0][0]))\n",
    "multi_pdf = w1*new_norm1 + (1-w1)*new_norm2\n"
   ]
  },
  {
   "cell_type": "code",
   "execution_count": 35,
   "id": "67ec044e-7e4f-4d0f-b394-d84ccb84385e",
   "metadata": {},
   "outputs": [],
   "source": [
    "means = gmix.means_\n",
    "weights = gmix.weights_\n",
    "# Compute the global mean by weighted averaging\n",
    "global_mean = np.average(means, weights=weights, axis=0)\n",
    "global_median = np.median(means)"
   ]
  },
  {
   "cell_type": "code",
   "execution_count": 36,
   "id": "c46a7b7c-f058-4a7f-bd32-0c6736b01c1f",
   "metadata": {},
   "outputs": [],
   "source": [
    "palette1=sn.color_palette(\"blend:#7AB,#EDA\")\n",
    "palette2=sn.color_palette(\"viridis\")"
   ]
  },
  {
   "cell_type": "code",
   "execution_count": 76,
   "id": "38663a53-42ab-477f-9d3c-e4593c5f3970",
   "metadata": {},
   "outputs": [],
   "source": [
    "mean3, std3, = 12, 0.8\n",
    "prior=norm.pdf(ls, mean2,std3 )\n",
    "li=multi_pdf*norm.pdf(ls, mean3,std3 )"
   ]
  },
  {
   "cell_type": "code",
   "execution_count": 77,
   "id": "cf84d4c5-57b9-4474-934a-cd577a9cb69c",
   "metadata": {},
   "outputs": [
    {
     "data": {
      "image/png": "[encoded data removed]",
      "text/plain": [
       "<Figure size 432x288 with 1 Axes>"
      ]
     },
     "metadata": {
      "needs_background": "light"
     },
     "output_type": "display_data"
    }
   ],
   "source": [
    "plt.plot(ls, multi_pdf, linewidth=4, color=palette1[0])\n",
    "plt.plot(ls, multi_pdf, linewidth=4, color=palette1[0])\n",
    "plt.scatter(global_mean,0, label='MSE', color=palette1[1], s=53,  alpha=0.9)\n",
    "plt.scatter(global_median ,0, label='MAE', color=palette1[-1], s=73,alpha=0.9)\n",
    "plt.axvline(global_mean, linewidth=2, color=palette1[1], ls='--')\n",
    "plt.axvline(global_median, linewidth=2, color=palette1[-1], ls='--')\n",
    "plt.legend(loc = 'best',fontsize='large')\n",
    "fig = plt.gcf()\n",
    "ax = plt.gca()\n",
    "ax.get_xaxis().set_visible(False)\n",
    "ax.get_yaxis().set_visible(False)\n",
    "#fig.savefig('../figures/exemple_distribution_light.pdf')"
   ]
  },
  {
   "cell_type": "code",
   "execution_count": 14,
   "id": "e371824a-bed0-4d1e-bbfe-257682719dc0",
   "metadata": {},
   "outputs": [
    {
     "data": {
      "text/plain": [
       "(100000,)"
      ]
     },
     "execution_count": 14,
     "metadata": {},
     "output_type": "execute_result"
    }
   ],
   "source": [
    "prior.shape"
   ]
  },
  {
   "cell_type": "code",
   "execution_count": 15,
   "id": "b0ec8c67-3eb1-4426-9746-3c316948ba9e",
   "metadata": {},
   "outputs": [
    {
     "data": {
      "text/plain": [
       "(1000,)"
      ]
     },
     "execution_count": 15,
     "metadata": {},
     "output_type": "execute_result"
    }
   ],
   "source": [
    "ls.shape"
   ]
  },
  {
   "cell_type": "code",
   "execution_count": null,
   "id": "a3cee77a-a865-4192-b473-ab5871096894",
   "metadata": {},
   "outputs": [],
   "source": []
  }
 ],
 "metadata": {
  "kernelspec": {
   "display_name": "python-3.10.4",
   "language": "python",
   "name": "module-conda-env-python-3.10.4"
  },
  "language_info": {
   "codemirror_mode": {
    "name": "ipython",
    "version": 3
   },
   "file_extension": ".py",
   "mimetype": "text/x-python",
   "name": "python",
   "nbconvert_exporter": "python",
   "pygments_lexer": "ipython3",
   "version": "3.10.4"
  }
 },
 "nbformat": 4,
 "nbformat_minor": 5
}
