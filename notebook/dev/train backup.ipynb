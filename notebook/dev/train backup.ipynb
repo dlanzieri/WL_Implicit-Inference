{
 "cells": [
  {
   "cell_type": "code",
   "execution_count": 1,
   "id": "7bf69cfc-1b0e-4523-a4a4-31f78ebb7fbf",
   "metadata": {},
   "outputs": [
    {
     "name": "stdout",
     "output_type": "stream",
     "text": [
      "gpu\n"
     ]
    }
   ],
   "source": [
    "from jax.lib import xla_bridge\n",
    "print(xla_bridge.get_backend().platform)"
   ]
  },
  {
   "cell_type": "code",
   "execution_count": 2,
   "id": "ad368f3e-2941-428f-827e-7d7f6401574b",
   "metadata": {},
   "outputs": [
    {
     "name": "stdout",
     "output_type": "stream",
     "text": [
      "Populating the interactive namespace from numpy and matplotlib\n"
     ]
    },
    {
     "data": {
      "text/plain": [
       "'unset XLA_FLAGS'"
      ]
     },
     "execution_count": 2,
     "metadata": {},
     "output_type": "execute_result"
    }
   ],
   "source": [
    "%load_ext autoreload\n",
    "%autoreload 2\n",
    "%pylab inline\n",
    "\n",
    "from functools import partial\n",
    "from tqdm import tqdm\n",
    "import pickle\n",
    "from chainconsumer import ChainConsumer\n",
    "\n",
    "import jax\n",
    "import jax.numpy as jnp\n",
    "jnp.ones([1,2])\n",
    "\n",
    "\n",
    "import haiku as hk\n",
    "from haiku._src.nets.resnet import ResNet18\n",
    "import optax\n",
    "\n",
    "from sbi_lens.normflow.models import AffineSigmoidCoupling, ConditionalRealNVP\n",
    "from sbi_lens.gen_dataset.lensing_lognormal_dataset import LensingLogNormalDataset\n",
    "\n",
    "'unset XLA_FLAGS'\n"
   ]
  },
  {
   "cell_type": "code",
   "execution_count": 3,
   "id": "08e09a99-797b-4b20-a903-20e316365f28",
   "metadata": {},
   "outputs": [
    {
     "name": "stderr",
     "output_type": "stream",
     "text": [
      "WARNING:root:The use of `check_types` is deprecated and does not have any effect.\n"
     ]
    },
    {
     "data": {
      "text/plain": [
       "<tfp.distributions.TransformedDistribution 'identityNormal' batch_shape=[] event_shape=[] dtype=float32>"
      ]
     },
     "execution_count": 3,
     "metadata": {},
     "output_type": "execute_result"
    }
   ],
   "source": [
    "import logging\n",
    "\n",
    "\n",
    "import tensorflow_probability as tfp; tfp = tfp.substrates.jax\n",
    "\n",
    "# this prints a WARNING\n",
    "\n",
    "tfp.distributions.TransformedDistribution(\n",
    "    tfp.distributions.Normal(0.0, 1.0), tfp.bijectors.Identity()\n",
    ")\n",
    "\n",
    "logger = logging.getLogger(\"root\")\n",
    "\n",
    "\n",
    "class CheckTypesFilter(logging.Filter):\n",
    "    def filter(self, record):\n",
    "        return \"check_types\" not in record.getMessage()\n",
    "\n",
    "\n",
    "logger.addFilter(CheckTypesFilter())\n",
    "\n",
    "# this does not print a WARNING\n",
    "\n",
    "tfp.distributions.TransformedDistribution(\n",
    "    tfp.distributions.Normal(0.0, 1.0), tfp.bijectors.Identity()\n",
    ")"
   ]
  },
  {
   "cell_type": "markdown",
   "id": "788c961c-b2be-4f2a-8ab1-7b82989de7ce",
   "metadata": {},
   "source": [
    "# Build compressor"
   ]
  },
  {
   "cell_type": "code",
   "execution_count": 4,
   "id": "c9c902e7-b69f-4046-be76-868afe19f577",
   "metadata": {},
   "outputs": [],
   "source": [
    "# create nf to train using mutual information\n",
    "bijector_layers_compressor = [128] * 2\n",
    "\n",
    "bijector_compressor = partial(\n",
    "  AffineSigmoidCoupling, \n",
    "  layers=bijector_layers_compressor, \n",
    "  n_components=16, \n",
    "  activation=jax.nn.silu\n",
    ")\n",
    "\n",
    "NF_compressor = partial(\n",
    "  ConditionalRealNVP, \n",
    "  n_layers=4, \n",
    "  bijector_fn=bijector_compressor\n",
    ")\n",
    "\n",
    "class Flow_nd_Compressor(hk.Module):\n",
    "    def __call__(self, y):\n",
    "        nvp = NF_compressor(2)(y)\n",
    "        return nvp\n",
    "nf = hk.without_apply_rng(hk.transform(lambda theta, y : Flow_nd_Compressor()(y).log_prob(theta).squeeze()))\n",
    "# ResNet 18\n",
    "params_nf = nf.init(jax.random.PRNGKey(8),  0.5*jnp.ones([1,2]), 0.5*jnp.ones([1,2]))\n",
    "compressor = hk.transform_with_state(lambda x : ResNet18(2)(x, is_training=True))\n",
    "parameters_resnet, opt_state_resnet  = compressor.init(jax.random.PRNGKey(873457568), 0.5*jnp.ones([1,128,128,5]))\n",
    "\n",
    "parameters_compressor = hk.data_structures.merge(parameters_resnet, params_nf)\n",
    "\n"
   ]
  },
  {
   "cell_type": "code",
   "execution_count": 5,
   "id": "f5a0e71b-d663-43ce-bb78-46326e987900",
   "metadata": {},
   "outputs": [],
   "source": [
    "#### Remember to import these few lines after the previus cell to avoid CUDA error\n",
    "\n",
    "tfd= tfp.distributions\n",
    "tfb = tfp.bijectors\n",
    "import tensorflow_datasets as tfds\n",
    "import tensorflow as tf"
   ]
  },
  {
   "cell_type": "markdown",
   "id": "9c87628d-5f94-4d2a-88c5-67f756e4f809",
   "metadata": {
    "id": "41298e75-602a-4107-a0ee-f5e544c25d7b",
    "tags": []
   },
   "source": [
    "# Dataset"
   ]
  },
  {
   "cell_type": "code",
   "execution_count": 6,
   "id": "32a0af7b-5c9a-4456-870c-383d0e276d81",
   "metadata": {
    "colab": {
     "base_uri": "https://localhost:8080/",
     "height": 184,
     "referenced_widgets": [
      "6867b730248d4b848db0caade632a374",
      "1821fa7b13d14ae68e8d4386c00b3713",
      "20f1d1b5b43043d28d25b710f704d32f",
      "15c4461aa194494e8c857029743013b5",
      "2917a71c63814c3a9ac95a331780776f",
      "485dd95004da454b97fe8cf683f1f8b6",
      "0b7dc127afb6435cb2c16d02d2a8544c",
      "d4bfcf6d7923492fba166416394be94e",
      "807509b008cc44c4813e9a7182fadc2c",
      "4d32fb5ded41439ab2febecc43a6f146",
      "1e0f33a5fa6f40ef83aa96f2e59e48a0",
      "ad85cb1447b9438281dfce803e04db08",
      "30dd509e721e4cb098c13ddac29db553",
      "7a2bf92b1201442f9d287c79fc0ab0dc",
      "237c2dfd68c64fc590861fba3ee9da52",
      "9bc1ee1f0dc247cb9bb6caae669d3a29",
      "e0c45e3a66574b3886dc2164f18db88b",
      "c52f590ef7754cbf903a9d3b9490688a",
      "1475e2188dce460887433ac88fee9a3c",
      "5c80329934404e4296875311c92021cb",
      "7f64686efd454858a3a455c7aa0c2ed4",
      "8ac83bf2a11a4f05b7ce06be929a79e0",
      "e900c879829b41719e0ad248ddc9db45",
      "3fa74ae7434d40228e003b36e8ed62b2",
      "6377527360ba47acb7e57de953a44a72",
      "88ffe6e8a40144399fbe5b77141ea81e",
      "d340c56763d94b18b1a3c72b2ef11311",
      "ebe780de3e264441b3eb6e01c252e613",
      "544bd65d1c9040ca838afe3892a22dc6",
      "742c082845de416eb1d5e5fea3809262",
      "501eb8ee35d04be99b9354e95e80a177",
      "f0117a6bfda7432e97d93603e1581ca4",
      "845533ab0c4c444598b17d8f5d515843"
     ]
    },
    "id": "32a0af7b-5c9a-4456-870c-383d0e276d81",
    "outputId": "210ed0f8-75cc-4e2e-c936-6f9161d98c5b"
   },
   "outputs": [
    {
     "name": "stderr",
     "output_type": "stream",
     "text": [
      "WARNING:absl:You use TensorFlow DType <dtype: 'float32'> in tfds.features This will soon be deprecated in favor of NumPy DTypes. In the meantime it was converted to float32.\n"
     ]
    }
   ],
   "source": [
    "# load and create dataset\n",
    "ds = tfds.load(\n",
    "    'LensingLogNormalDataset/Gaussian_model_year_1', \n",
    "    split='train', \n",
    "    data_dir = 'tensorflow_dataset'\n",
    ")"
   ]
  },
  {
   "cell_type": "code",
   "execution_count": 7,
   "id": "8e68604d-f9f1-4ac4-9e5d-867e77954265",
   "metadata": {
    "id": "8e68604d-f9f1-4ac4-9e5d-867e77954265"
   },
   "outputs": [],
   "source": [
    "tf.random.set_seed(1)\n",
    "                           \n",
    "def augmentation_with_noise(example):\n",
    "\n",
    "      N=128\n",
    "      map_size=5\n",
    "      gal_per_arcmin2=10\n",
    "      sigma_e=0.26\n",
    "      pix_area = (map_size * 60 / N)**2  \n",
    "\n",
    "      ex = tf.expand_dims(example['simulation'], axis = -1)\n",
    "      noise = tf.random.normal(\n",
    "          shape=(N, N, 1), \n",
    "          stddev=sigma_e/tf.math.sqrt(gal_per_arcmin2 * pix_area)\n",
    "      )\n",
    "      x = ex + noise\n",
    "      x = tf.image.random_flip_left_right(x)\n",
    "      x = tf.image.random_flip_up_down(x)\n",
    "\n",
    "      return {'simulation': x, 'theta': example['theta'], 'score': example['score']}\n",
    "    \n",
    "def reshape(example):\n",
    "      ex = example['simulation']\n",
    "      x = tf.transpose(ex)\n",
    "      return {'simulation': x, 'theta': example['theta'], 'score': example['score']}"
   ]
  },
  {
   "cell_type": "markdown",
   "id": "bef7c07b-4e9d-41f6-bbfd-b05b7edd053e",
   "metadata": {
    "id": "bef7c07b-4e9d-41f6-bbfd-b05b7edd053e",
    "tags": []
   },
   "source": [
    "## Training"
   ]
  },
  {
   "cell_type": "code",
   "execution_count": 8,
   "id": "ab14eeb6-4b3f-4b36-add6-b481eb2a6816",
   "metadata": {},
   "outputs": [],
   "source": [
    "\n",
    "def loss_mse(params, mu, batch, state_resnet):\n",
    "  y, opt_state_resnet = compressor.apply(\n",
    "      params, state_resnet, None, batch.reshape([-1,128,128,5])\n",
    "  )\n",
    "  loss = jnp.mean(jnp.sum((y - mu)**2, axis=1))\n",
    "  return loss, opt_state_resnet\n",
    "\n",
    "@jax.jit\n",
    "def update_compressor_with_mse(params, opt_state, mu, batch, state_resnet):\n",
    "    \"\"\"Single SGD update step.\"\"\"\n",
    "    (loss, opt_state_resnet), grads = jax.value_and_grad(loss_mse, has_aux = True)(params, mu, batch, state_resnet)\n",
    "    updates, new_opt_state = optimizer_c.update(grads, opt_state)\n",
    "    new_params = optax.apply_updates(params, updates)\n",
    "  \n",
    "    return loss, new_params, new_opt_state, opt_state_resnet"
   ]
  },
  {
   "cell_type": "code",
   "execution_count": 9,
   "id": "f77384e7-3235-4341-8e13-595457c5adfe",
   "metadata": {
    "id": "f77384e7-3235-4341-8e13-595457c5adfe"
   },
   "outputs": [],
   "source": [
    "def loss_vmim(params, mu, batch, state_resnet):\n",
    "  y, opt_state_resnet = compressor.apply(\n",
    "      params, state_resnet, None, batch.reshape([-1,128,128,5])\n",
    "  )\n",
    "  log_prob = jax.vmap(\n",
    "      lambda theta, x: nf.apply(\n",
    "          params, \n",
    "          theta.reshape([1,2]), \n",
    "          x.reshape([1,2])\n",
    "      ).squeeze()\n",
    "  )(mu, y)\n",
    "  return -jnp.mean(log_prob) , opt_state_resnet\n",
    "\n",
    "@jax.jit\n",
    "def update_compressor_with_vmim(params, opt_state, mu, batch, state_resnet):\n",
    "    \"\"\"Single SGD update step.\"\"\"\n",
    "    (loss, opt_state_resnet), grads = jax.value_and_grad(\n",
    "        loss_vmim, \n",
    "        has_aux = True\n",
    "    )(params, mu, batch, state_resnet)\n",
    "    updates, new_opt_state = optimizer_c.update(grads, opt_state)\n",
    "    new_params = optax.apply_updates(params, updates)\n",
    "  \n",
    "    return loss, new_params, new_opt_state, opt_state_resnet"
   ]
  },
  {
   "cell_type": "code",
   "execution_count": null,
   "id": "beb78f58-9537-491b-9a36-1f1dead7b754",
   "metadata": {},
   "outputs": [],
   "source": []
  },
  {
   "cell_type": "markdown",
   "id": "1aaf0291-6c26-4d29-8085-743c0de517e0",
   "metadata": {},
   "source": [
    "### Define here how to train the compressor --> MSE or VMIM\n"
   ]
  },
  {
   "cell_type": "code",
   "execution_count": 6,
   "id": "49f21f44-680d-4379-9740-dc9b23cce472",
   "metadata": {},
   "outputs": [],
   "source": [
    "Train= 'VMIM'"
   ]
  },
  {
   "cell_type": "markdown",
   "id": "51c21ecc-27ae-4972-9421-d8eb0b79be3d",
   "metadata": {},
   "source": [
    "### Training compressor --> MSE or VMIM"
   ]
  },
  {
   "cell_type": "code",
   "execution_count": 11,
   "id": "3cad1514-90e0-4c85-89f1-281af3792d8e",
   "metadata": {
    "colab": {
     "base_uri": "https://localhost:8080/"
    },
    "id": "3cad1514-90e0-4c85-89f1-281af3792d8e",
    "outputId": "2a80a8b3-8d37-422b-c473-fb32cb95ce56",
    "tags": []
   },
   "outputs": [],
   "source": [
    "# dataset\n",
    "ds = tfds.load('LensingLogNormalDataset/Gaussian_model_year_1', \n",
    "               split='train[:80000]', \n",
    "               data_dir = 'tensorflow_dataset')\n",
    "\n",
    "ds = ds.repeat()\n",
    "ds = ds.shuffle(1000)\n",
    "ds = ds.map(reshape)\n",
    "ds = ds.map(augmentation_with_noise)\n",
    "ds = ds.batch(128)\n",
    "ds = ds.prefetch(tf.data.experimental.AUTOTUNE)\n",
    "ds_train = iter(tfds.as_numpy(ds))\n",
    "\n",
    "total_steps = 100_000# usually 200_000\n",
    "lr_scheduler = optax.piecewise_constant_schedule(\n",
    "    init_value=0.001,\n",
    "    boundaries_and_scales={int(total_steps*0.1):0.7,\n",
    "                           int(total_steps*0.2):0.7,\n",
    "                           int(total_steps*0.3):0.7,\n",
    "                           int(total_steps*0.4):0.7,\n",
    "                           int(total_steps*0.5):0.7,\n",
    "                           int(total_steps*0.6):0.7,\n",
    "                           int(total_steps*0.7):0.7,\n",
    "                           int(total_steps*0.8):0.7,\n",
    "                           int(total_steps*0.9):0.7}\n",
    ")\n",
    "optimizer_c = optax.adam(learning_rate=lr_scheduler)\n",
    "opt_state_c = optimizer_c.init(parameters_compressor)\n",
    "batch_loss=[]\n"
   ]
  },
  {
   "cell_type": "code",
   "execution_count": 12,
   "id": "8531897a-6efa-4202-aa9b-b6850d832cf4",
   "metadata": {},
   "outputs": [
    {
     "name": "stderr",
     "output_type": "stream",
     "text": [
      "100%|██████████| 100000/100000 [4:50:43<00:00,  5.73it/s] \n"
     ]
    }
   ],
   "source": [
    "if Train=='MSE':\n",
    "    for batch in tqdm(range(total_steps)):\n",
    "        sample = next(ds_train)\n",
    "        l, parameters_compressor, opt_state_c, opt_state_resnet = update_compressor_with_mse(\n",
    "            parameters_compressor,\n",
    "            opt_state_c, \n",
    "            sample['theta'],\n",
    "            sample['simulation'], \n",
    "            opt_state_resnet\n",
    "        )\n",
    "\n",
    "        if batch % 100 == 0:\n",
    "            batch_loss.append(l)\n",
    "            \n",
    "elif Train=='VMIM':\n",
    "    for batch in tqdm(range(total_steps)):\n",
    "        sample = next(ds_train)\n",
    "        l, parameters_compressor, opt_state_c, opt_state_resnet = update_compressor_with_vmim(\n",
    "            parameters_compressor,\n",
    "            opt_state_c, \n",
    "            sample['theta'],\n",
    "            sample['simulation'], \n",
    "            opt_state_resnet\n",
    "        )\n",
    "\n",
    "        if batch % 100 == 0:\n",
    "            batch_loss.append(l)"
   ]
  },
  {
   "cell_type": "code",
   "execution_count": 13,
   "id": "8e803d72-c3fe-4d34-85b9-754335620b27",
   "metadata": {
    "id": "JHmV0JMekQDo"
   },
   "outputs": [
    {
     "data": {
      "text/plain": [
       "[<matplotlib.lines.Line2D at 0x14ba1202ef10>]"
      ]
     },
     "execution_count": 13,
     "metadata": {},
     "output_type": "execute_result"
    },
    {
     "data": {
      "image/png": "[encoded data removed]",
      "text/plain": [
       "<Figure size 432x288 with 1 Axes>"
      ]
     },
     "metadata": {
      "needs_background": "light"
     },
     "output_type": "display_data"
    }
   ],
   "source": [
    "plt.plot(batch_loss[:500])"
   ]
  },
  {
   "cell_type": "code",
   "execution_count": 14,
   "id": "b344bda2-8fde-42d1-9dd4-0af782bf3e58",
   "metadata": {
    "id": "b344bda2-8fde-42d1-9dd4-0af782bf3e58"
   },
   "outputs": [],
   "source": [
    "import pickle\n",
    "with open(\"params_nd_compressor_{}.pkl\".format(Train), \"wb\") as fp:\n",
    "  pickle.dump(parameters_compressor, fp)\n",
    "\n",
    "with open(\"opt_state_resnet_{}.pkl\".format(Train), \"wb\") as fp:\n",
    "  pickle.dump(opt_state_resnet, fp)"
   ]
  },
  {
   "cell_type": "markdown",
   "id": "36765925-075b-4991-a2ef-7bd15bb83b22",
   "metadata": {
    "id": "36765925-075b-4991-a2ef-7bd15bb83b22",
    "tags": []
   },
   "source": [
    "# SBI"
   ]
  },
  {
   "cell_type": "markdown",
   "id": "4fa76e15-70f4-4d82-b5d1-f410439db650",
   "metadata": {
    "id": "4fa76e15-70f4-4d82-b5d1-f410439db650",
    "tags": []
   },
   "source": [
    "## Create NF for SBI"
   ]
  },
  {
   "cell_type": "code",
   "execution_count": 17,
   "id": "6586d7bd-dab4-489b-bf51-b2ffe3d73a59",
   "metadata": {},
   "outputs": [],
   "source": [
    "# import pickle\n",
    "\n",
    "# with open(\"params_nd_compressor_{}.pkl\".format(Train), 'rb') as f:\n",
    "#     params_nd_compressor = pickle.load(f)\n",
    "# ##################################################\n",
    "# with open(\"opt_state_resnet_{}.pkl\".format(Train), 'rb') as g:\n",
    "#     opt_state_resnet = pickle.load(g)"
   ]
  },
  {
   "cell_type": "code",
   "execution_count": 15,
   "id": "533e516a-6340-4226-ba84-f18c6b4e1552",
   "metadata": {},
   "outputs": [],
   "source": [
    "params_nd_compressor=parameters_compressor"
   ]
  },
  {
   "cell_type": "code",
   "execution_count": 12,
   "id": "8c1470e2-8d0a-4775-9b6d-53260a28ce6d",
   "metadata": {
    "id": "8c1470e2-8d0a-4775-9b6d-53260a28ce6d"
   },
   "outputs": [],
   "source": [
    "bijector_layers = [128] * 2\n",
    "\n",
    "bijector_npe = partial(\n",
    "  AffineSigmoidCoupling, \n",
    "  layers=bijector_layers, \n",
    "  n_components=16, \n",
    "  activation=jax.nn.silu\n",
    ")\n",
    "\n",
    "NF_npe = partial(\n",
    "    \n",
    "  ConditionalRealNVP, \n",
    "  n_layers=4, \n",
    "  bijector_fn=bijector_npe\n",
    ")\n",
    "\n",
    "prior = tfd.MultivariateNormalDiag(jnp.array([0.3,0.8]), 0.05*jnp.ones(2))\n",
    "theta = prior.sample(10000,jax.random.PRNGKey(0))\n",
    "scale_theta = (jnp.std(theta, axis = 0)/0.06)\n",
    "shift_theta = jnp.mean(theta/scale_theta, axis = 0)-0.5\n",
    "\n",
    "class SmoothNPE(hk.Module):\n",
    "    def __call__(self, y):\n",
    "        net = y\n",
    "        nvp = NF_npe(2)(net)\n",
    "        nf = tfd.TransformedDistribution(\n",
    "            nvp,\n",
    "            tfb.Chain([tfb.Scale(scale_theta),tfb.Shift(shift_theta)])\n",
    "        )\n",
    "        return nf\n",
    "\n",
    "nvp_nd = hk.without_apply_rng(hk.transform(lambda theta,y : SmoothNPE()(y).log_prob(theta).squeeze()))\n",
    "params_nd = nvp_nd.init(jax.random.PRNGKey(42), 0.5*jnp.ones([1,2]), 0.5*jnp.ones([1,2]))"
   ]
  },
  {
   "cell_type": "markdown",
   "id": "dbdb56c6-5557-41d7-a8d8-65b8314709af",
   "metadata": {
    "id": "dbdb56c6-5557-41d7-a8d8-65b8314709af",
    "tags": []
   },
   "source": [
    "## Training"
   ]
  },
  {
   "cell_type": "code",
   "execution_count": 17,
   "id": "62d6800f-4136-4b85-8594-afb36605b3cd",
   "metadata": {
    "id": "62d6800f-4136-4b85-8594-afb36605b3cd"
   },
   "outputs": [],
   "source": [
    "# define loss function and model update\n",
    "def loss_fn(params, parameters_compressor, opt_state_resnet, weight, mu, batch, score):\n",
    "\n",
    "  y, _ = compressor.apply(parameters_compressor, opt_state_resnet, None, batch.reshape([-1,128,128,5]))\n",
    "  \n",
    "  log_prob, out = jax.vmap(\n",
    "    jax.value_and_grad(lambda theta, x: nvp_nd.apply(params, theta.reshape([1,2]), x.reshape([1,2])).squeeze())\n",
    "    )(mu, y)\n",
    "\n",
    "  nll = - jnp.mean(log_prob)\n",
    "  sm = jnp.mean(jnp.sum((out - score)**2, axis=1))\n",
    "      \n",
    "  return nll + weight * sm\n",
    "\n",
    "@jax.jit\n",
    "def update(params, parameters_compressor, opt_state, opt_state_resnet, weight, mu, batch, score):\n",
    "    \"\"\"Single SGD update step.\"\"\"\n",
    "    loss, grads  = jax.value_and_grad(loss_fn)(\n",
    "        params,\n",
    "        parameters_compressor, \n",
    "        opt_state_resnet, \n",
    "        weight, \n",
    "        mu,\n",
    "        batch, \n",
    "        score\n",
    "    )\n",
    "    updates, new_opt_state = optimizer.update(grads, opt_state, params)\n",
    "    new_params = optax.apply_updates(params, updates)\n",
    "  \n",
    "    return loss, new_params, new_opt_state"
   ]
  },
  {
   "cell_type": "code",
   "execution_count": null,
   "id": "e0a67b80-4f86-4e74-bd67-9cea2281a668",
   "metadata": {
    "id": "e0a67b80-4f86-4e74-bd67-9cea2281a668"
   },
   "outputs": [
    {
     "name": "stderr",
     "output_type": "stream",
     "text": [
      " 63%|██████▎   | 63293/100000 [3:06:03<1:49:32,  5.58it/s]"
     ]
    }
   ],
   "source": [
    "score_weight = 0\n",
    "\n",
    "ds = tfds.load('LensingLogNormalDataset/Gaussian_model_year_1', \n",
    "               split='train[80000:]', \n",
    "               data_dir = 'tensorflow_dataset')\n",
    "\n",
    "ds = ds.repeat()\n",
    "ds = ds.shuffle(1000)\n",
    "ds = ds.map(reshape)\n",
    "ds = ds.map(augmentation_with_noise)\n",
    "ds = ds.batch(128)\n",
    "ds = ds.prefetch(tf.data.experimental.AUTOTUNE)\n",
    "ds_train = iter(tfds.as_numpy(ds))\n",
    "\n",
    "#optimizer\n",
    "total_steps = 100_000\n",
    "lr_scheduler = optax.piecewise_constant_schedule(\n",
    "    init_value=0.001,\n",
    "    boundaries_and_scales={int(total_steps*0.2):0.7,\n",
    "                           int(total_steps*0.4):0.7,\n",
    "                           int(total_steps*0.6):0.7,\n",
    "                           int(total_steps*0.8):0.7}\n",
    ")\n",
    "\n",
    "optimizer = optax.adam(learning_rate=lr_scheduler)\n",
    "opt_state = optimizer.init(params_nd)\n",
    "\n",
    "batch_loss=[]\n",
    "for batch in tqdm(range(total_steps)):\n",
    "    samples = next(ds_train)\n",
    "    l, params_nd, opt_state = update(\n",
    "        params_nd, \n",
    "        params_nd_compressor, \n",
    "        opt_state, \n",
    "        opt_state_resnet,\n",
    "        score_weight, \n",
    "        samples['theta'], \n",
    "        samples['simulation'], \n",
    "        samples['score']\n",
    "    )\n",
    "\n",
    "    if batch % 100 == 0:\n",
    "        batch_loss.append(l)"
   ]
  },
  {
   "cell_type": "code",
   "execution_count": null,
   "id": "5d072b68-14df-4ff1-916b-2fbc38ee9cb3",
   "metadata": {
    "id": "JHmV0JMekQDo"
   },
   "outputs": [],
   "source": [
    "plt.plot(batch_loss)"
   ]
  },
  {
   "cell_type": "code",
   "execution_count": null,
   "id": "9e920ee7-574f-4407-8ddb-b9e75368770b",
   "metadata": {
    "id": "b344bda2-8fde-42d1-9dd4-0af782bf3e58"
   },
   "outputs": [],
   "source": [
    "\n",
    "with open(\"params_nd_{}.pkl\".format(Train), \"wb\") as fp:\n",
    "  pickle.dump(params_nd, fp)\n",
    "\n",
    "with open(\"opt_state_{}.pkl\".format(Train), \"wb\") as fp:\n",
    "  pickle.dump(opt_state, fp)\n",
    "\n"
   ]
  },
  {
   "cell_type": "markdown",
   "id": "6c4c2b95-005b-47c5-8e41-54af975491ef",
   "metadata": {
    "id": "6c4c2b95-005b-47c5-8e41-54af975491ef",
    "tags": []
   },
   "source": [
    "## Create fiducial and plot results"
   ]
  },
  {
   "cell_type": "code",
   "execution_count": 15,
   "id": "dcfadd78-2ebd-428a-86f1-d00decfc5e07",
   "metadata": {},
   "outputs": [],
   "source": [
    "m_data = tf.transpose(np.load(\"data/map_gaussian_tomo_with_noise.npy\")).numpy()"
   ]
  },
  {
   "cell_type": "code",
   "execution_count": 13,
   "id": "8d60bbfc-c87d-4867-aee8-663ac773cc81",
   "metadata": {},
   "outputs": [],
   "source": [
    "import pickle\n",
    "\n",
    "with open(\"data/params_nd_compressor_{}.pkl\".format(Train), 'rb') as f:\n",
    "    params_nd_compressor = pickle.load(f)\n",
    "##################################################\n",
    "with open(\"data/opt_state_resnet_{}.pkl\".format(Train), 'rb') as g:\n",
    "    opt_state_resnet = pickle.load(g)"
   ]
  },
  {
   "cell_type": "code",
   "execution_count": 14,
   "id": "5733c29d-53dc-4589-a36a-a3c30729e7d9",
   "metadata": {},
   "outputs": [],
   "source": [
    "import pickle\n",
    "\n",
    "with open(\"data/params_nd_{}.pkl\".format(Train), 'rb') as f:\n",
    "    params_nd = pickle.load(f)\n",
    "##################################################\n",
    "with open(\"data/opt_state_{}.pkl\".format(Train), 'rb') as g:\n",
    "    opt_state = pickle.load(g)"
   ]
  },
  {
   "cell_type": "code",
   "execution_count": 16,
   "id": "79dd2050-471d-4244-be35-185d070f1c82",
   "metadata": {},
   "outputs": [],
   "source": [
    "y, _ = compressor.apply(\n",
    "    params_nd_compressor, opt_state_resnet, None, m_data.reshape([1,128,128,5])\n",
    ")\n",
    "nvp_sample_nd = hk.transform(\n",
    "    lambda x : SmoothNPE()(x).sample(566933, seed=hk.next_rng_key())\n",
    ")\n",
    "\n",
    "sample_nd = nvp_sample_nd.apply(\n",
    "    params_nd, \n",
    "    rng = jax.random.PRNGKey(43), \n",
    "    x = y*jnp.ones([566933,2])\n",
    ")"
   ]
  },
  {
   "cell_type": "code",
   "execution_count": 18,
   "id": "40b4c4dc-460d-46b3-ab07-f44af8acdbe2",
   "metadata": {},
   "outputs": [],
   "source": [
    "samples_ff=np.load(\"data/posterior_full_field__128N_5ms_10gpa_0.26se.npy\",allow_pickle=True)"
   ]
  },
  {
   "cell_type": "code",
   "execution_count": 19,
   "id": "1e7f27df-d044-4b5e-b031-ab1f452b2b1d",
   "metadata": {},
   "outputs": [
    {
     "data": {
      "image/png": "[encoded data removed]",
      "text/plain": [
       "<Figure size 360x360 with 4 Axes>"
      ]
     },
     "metadata": {
      "needs_background": "light"
     },
     "output_type": "display_data"
    }
   ],
   "source": [
    "c = ChainConsumer()\n",
    "c.add_chain(sample_nd, parameters=[\"$\\Omega_c$\", \"$\\sigma_8$\"], name='SBI')\n",
    "c.add_chain(samples_ff, parameters=[\"$\\Omega_c$\", \"$\\sigma_8$\"], name='Full Field')\n",
    "fig = c.plotter.plot(figsize=\"column\", truth = [0.3,0.8])\n"
   ]
  },
  {
   "cell_type": "code",
   "execution_count": 18,
   "id": "a5bdb10b-e9f2-4f51-bf14-c9bd619d5b7f",
   "metadata": {},
   "outputs": [
    {
     "data": {
      "image/png": "[encoded data removed]",
      "text/plain": [
       "<Figure size 360x360 with 4 Axes>"
      ]
     },
     "metadata": {
      "needs_background": "light"
     },
     "output_type": "display_data"
    }
   ],
   "source": [
    "c = ChainConsumer()\n",
    "c.add_chain(sample_nd, parameters=[\"$\\Omega_c$\", \"$\\sigma_8$\"], name='SBI')\n",
    "c.add_chain(samples_ff, parameters=[\"$\\Omega_c$\", \"$\\sigma_8$\"], name='Full Field')\n",
    "fig = c.plotter.plot(figsize=\"column\", truth = [0.3,0.8])\n"
   ]
  },
  {
   "cell_type": "code",
   "execution_count": null,
   "id": "bad1fc0d-8a79-4be9-8adf-8f9e005277ec",
   "metadata": {},
   "outputs": [],
   "source": []
  },
  {
   "cell_type": "code",
   "execution_count": null,
   "id": "76669ebc-65d5-4ee7-906a-41822e5f6cb8",
   "metadata": {},
   "outputs": [],
   "source": []
  },
  {
   "cell_type": "code",
   "execution_count": null,
   "id": "3f475ef7-471b-4999-9522-0694110f2e78",
   "metadata": {},
   "outputs": [],
   "source": []
  },
  {
   "cell_type": "code",
   "execution_count": null,
   "id": "47d5f206-6048-4d28-962a-d2952e0eacb5",
   "metadata": {},
   "outputs": [],
   "source": []
  },
  {
   "cell_type": "code",
   "execution_count": null,
   "id": "e09e56bc-93ef-4370-8390-eafea2a52462",
   "metadata": {},
   "outputs": [],
   "source": []
  },
  {
   "cell_type": "code",
   "execution_count": null,
   "id": "c6efc114-208f-4a61-b1e3-3e99f71a54c4",
   "metadata": {},
   "outputs": [],
   "source": []
  },
  {
   "cell_type": "code",
   "execution_count": null,
   "id": "b049db9b-52b3-4401-8687-a43a0466c725",
   "metadata": {},
   "outputs": [],
   "source": []
  },
  {
   "cell_type": "code",
   "execution_count": null,
   "id": "92a6ff44-4b8e-4c66-91af-72f7799e993d",
   "metadata": {},
   "outputs": [],
   "source": []
  },
  {
   "cell_type": "code",
   "execution_count": null,
   "id": "ea178a17-9582-4a2e-a500-d0279ae2024e",
   "metadata": {},
   "outputs": [],
   "source": []
  },
  {
   "cell_type": "code",
   "execution_count": null,
   "id": "c51a83c4-67db-4255-b593-89fe5235b9ea",
   "metadata": {},
   "outputs": [],
   "source": []
  },
  {
   "cell_type": "code",
   "execution_count": null,
   "id": "6e47eed3-728d-441b-a8db-4942c9dcd302",
   "metadata": {},
   "outputs": [],
   "source": []
  },
  {
   "cell_type": "code",
   "execution_count": null,
   "id": "addfbf7e-d467-40d5-807e-a6ec7767b81a",
   "metadata": {},
   "outputs": [],
   "source": []
  },
  {
   "cell_type": "code",
   "execution_count": null,
   "id": "317ce9a0-8fe1-4b88-89b5-1271deb2f6ef",
   "metadata": {},
   "outputs": [],
   "source": []
  },
  {
   "cell_type": "code",
   "execution_count": 27,
   "id": "87fa2776-cb13-4d43-a1fd-1df6348cf009",
   "metadata": {
    "id": "87fa2776-cb13-4d43-a1fd-1df6348cf009"
   },
   "outputs": [
    {
     "name": "stderr",
     "output_type": "stream",
     "text": [
      "2023-02-09 20:26:29.767387: E external/org_tensorflow/tensorflow/compiler/xla/service/gpu/gpu_compiler.cc:1272] --xla_hlo_profile for GPU is unsupported.\n",
      "2023-02-09 20:26:29.962724: E external/org_tensorflow/tensorflow/compiler/xla/service/gpu/gpu_compiler.cc:1272] --xla_hlo_profile for GPU is unsupported.\n",
      "2023-02-09 20:26:30.049047: E external/org_tensorflow/tensorflow/compiler/xla/service/gpu/gpu_compiler.cc:1272] --xla_hlo_profile for GPU is unsupported.\n",
      "2023-02-09 20:26:30.224876: E external/org_tensorflow/tensorflow/compiler/xla/service/gpu/gpu_compiler.cc:1272] --xla_hlo_profile for GPU is unsupported.\n",
      "2023-02-09 20:26:30.391450: E external/org_tensorflow/tensorflow/compiler/xla/service/gpu/gpu_compiler.cc:1272] --xla_hlo_profile for GPU is unsupported.\n",
      "2023-02-09 20:26:30.477323: E external/org_tensorflow/tensorflow/compiler/xla/service/gpu/gpu_compiler.cc:1272] --xla_hlo_profile for GPU is unsupported.\n",
      "2023-02-09 20:26:30.561484: E external/org_tensorflow/tensorflow/compiler/xla/service/gpu/gpu_compiler.cc:1272] --xla_hlo_profile for GPU is unsupported.\n",
      "2023-02-09 20:26:30.578022: E external/org_tensorflow/tensorflow/compiler/xla/service/gpu/gpu_compiler.cc:1272] --xla_hlo_profile for GPU is unsupported.\n",
      "2023-02-09 20:26:30.593340: E external/org_tensorflow/tensorflow/compiler/xla/service/gpu/gpu_compiler.cc:1272] --xla_hlo_profile for GPU is unsupported.\n",
      "2023-02-09 20:26:30.605804: E external/org_tensorflow/tensorflow/compiler/xla/service/gpu/gpu_compiler.cc:1272] --xla_hlo_profile for GPU is unsupported.\n",
      "2023-02-09 20:26:30.616060: E external/org_tensorflow/tensorflow/compiler/xla/service/gpu/gpu_compiler.cc:1272] --xla_hlo_profile for GPU is unsupported.\n",
      "2023-02-09 20:26:30.631142: E external/org_tensorflow/tensorflow/compiler/xla/service/gpu/gpu_compiler.cc:1272] --xla_hlo_profile for GPU is unsupported.\n",
      "2023-02-09 20:26:30.641077: E external/org_tensorflow/tensorflow/compiler/xla/service/gpu/gpu_compiler.cc:1272] --xla_hlo_profile for GPU is unsupported.\n",
      "2023-02-09 20:26:30.733452: E external/org_tensorflow/tensorflow/compiler/xla/service/gpu/gpu_compiler.cc:1272] --xla_hlo_profile for GPU is unsupported.\n",
      "2023-02-09 20:26:30.818526: E external/org_tensorflow/tensorflow/compiler/xla/service/gpu/gpu_compiler.cc:1272] --xla_hlo_profile for GPU is unsupported.\n",
      "2023-02-09 20:26:31.087570: E external/org_tensorflow/tensorflow/compiler/xla/service/gpu/gpu_compiler.cc:1272] --xla_hlo_profile for GPU is unsupported.\n",
      "2023-02-09 20:26:31.097039: E external/org_tensorflow/tensorflow/compiler/xla/service/gpu/gpu_compiler.cc:1272] --xla_hlo_profile for GPU is unsupported.\n",
      "2023-02-09 20:26:31.186494: E external/org_tensorflow/tensorflow/compiler/xla/service/gpu/gpu_compiler.cc:1272] --xla_hlo_profile for GPU is unsupported.\n",
      "2023-02-09 20:26:31.281843: E external/org_tensorflow/tensorflow/compiler/xla/service/gpu/gpu_compiler.cc:1272] --xla_hlo_profile for GPU is unsupported.\n",
      "2023-02-09 20:26:31.667182: E external/org_tensorflow/tensorflow/compiler/xla/service/gpu/gpu_compiler.cc:1272] --xla_hlo_profile for GPU is unsupported.\n",
      "2023-02-09 20:26:31.784147: E external/org_tensorflow/tensorflow/compiler/xla/service/gpu/gpu_compiler.cc:1272] --xla_hlo_profile for GPU is unsupported.\n",
      "2023-02-09 20:26:31.792673: E external/org_tensorflow/tensorflow/compiler/xla/service/gpu/gpu_compiler.cc:1272] --xla_hlo_profile for GPU is unsupported.\n",
      "2023-02-09 20:26:31.877269: E external/org_tensorflow/tensorflow/compiler/xla/service/gpu/gpu_compiler.cc:1272] --xla_hlo_profile for GPU is unsupported.\n",
      "2023-02-09 20:26:31.973576: E external/org_tensorflow/tensorflow/compiler/xla/service/gpu/gpu_compiler.cc:1272] --xla_hlo_profile for GPU is unsupported.\n",
      "2023-02-09 20:26:32.073054: E external/org_tensorflow/tensorflow/compiler/xla/service/gpu/gpu_compiler.cc:1272] --xla_hlo_profile for GPU is unsupported.\n",
      "2023-02-09 20:26:32.170428: E external/org_tensorflow/tensorflow/compiler/xla/service/gpu/gpu_compiler.cc:1272] --xla_hlo_profile for GPU is unsupported.\n",
      "2023-02-09 20:26:32.308420: E external/org_tensorflow/tensorflow/compiler/xla/service/gpu/gpu_compiler.cc:1272] --xla_hlo_profile for GPU is unsupported.\n",
      "2023-02-09 20:26:32.401240: E external/org_tensorflow/tensorflow/compiler/xla/service/gpu/gpu_compiler.cc:1272] --xla_hlo_profile for GPU is unsupported.\n",
      "2023-02-09 20:26:32.493619: E external/org_tensorflow/tensorflow/compiler/xla/service/gpu/gpu_compiler.cc:1272] --xla_hlo_profile for GPU is unsupported.\n",
      "2023-02-09 20:26:32.504802: E external/org_tensorflow/tensorflow/compiler/xla/service/gpu/gpu_compiler.cc:1272] --xla_hlo_profile for GPU is unsupported.\n",
      "2023-02-09 20:26:32.596565: E external/org_tensorflow/tensorflow/compiler/xla/service/gpu/gpu_compiler.cc:1272] --xla_hlo_profile for GPU is unsupported.\n",
      "2023-02-09 20:26:32.681292: E external/org_tensorflow/tensorflow/compiler/xla/service/gpu/gpu_compiler.cc:1272] --xla_hlo_profile for GPU is unsupported.\n",
      "2023-02-09 20:26:32.818521: E external/org_tensorflow/tensorflow/compiler/xla/service/gpu/gpu_compiler.cc:1272] --xla_hlo_profile for GPU is unsupported.\n",
      "2023-02-09 20:26:32.906922: E external/org_tensorflow/tensorflow/compiler/xla/service/gpu/gpu_compiler.cc:1272] --xla_hlo_profile for GPU is unsupported.\n",
      "2023-02-09 20:26:32.996167: E external/org_tensorflow/tensorflow/compiler/xla/service/gpu/gpu_compiler.cc:1272] --xla_hlo_profile for GPU is unsupported.\n",
      "2023-02-09 20:26:33.081195: E external/org_tensorflow/tensorflow/compiler/xla/service/gpu/gpu_compiler.cc:1272] --xla_hlo_profile for GPU is unsupported.\n",
      "2023-02-09 20:26:33.167305: E external/org_tensorflow/tensorflow/compiler/xla/service/gpu/gpu_compiler.cc:1272] --xla_hlo_profile for GPU is unsupported.\n",
      "2023-02-09 20:26:33.250514: E external/org_tensorflow/tensorflow/compiler/xla/service/gpu/gpu_compiler.cc:1272] --xla_hlo_profile for GPU is unsupported.\n",
      "2023-02-09 20:26:33.333048: E external/org_tensorflow/tensorflow/compiler/xla/service/gpu/gpu_compiler.cc:1272] --xla_hlo_profile for GPU is unsupported.\n",
      "2023-02-09 20:26:33.464396: E external/org_tensorflow/tensorflow/compiler/xla/service/gpu/gpu_compiler.cc:1272] --xla_hlo_profile for GPU is unsupported.\n",
      "2023-02-09 20:26:33.550165: E external/org_tensorflow/tensorflow/compiler/xla/service/gpu/gpu_compiler.cc:1272] --xla_hlo_profile for GPU is unsupported.\n",
      "2023-02-09 20:26:33.650185: E external/org_tensorflow/tensorflow/compiler/xla/service/gpu/gpu_compiler.cc:1272] --xla_hlo_profile for GPU is unsupported.\n",
      "2023-02-09 20:26:33.716510: E external/org_tensorflow/tensorflow/compiler/xla/service/gpu/gpu_compiler.cc:1272] --xla_hlo_profile for GPU is unsupported.\n",
      "2023-02-09 20:26:33.812511: E external/org_tensorflow/tensorflow/compiler/xla/service/gpu/gpu_compiler.cc:1272] --xla_hlo_profile for GPU is unsupported.\n",
      "2023-02-09 20:26:33.898084: E external/org_tensorflow/tensorflow/compiler/xla/service/gpu/gpu_compiler.cc:1272] --xla_hlo_profile for GPU is unsupported.\n",
      "2023-02-09 20:26:33.920143: E external/org_tensorflow/tensorflow/compiler/xla/service/gpu/gpu_compiler.cc:1272] --xla_hlo_profile for GPU is unsupported.\n",
      "2023-02-09 20:26:34.014690: E external/org_tensorflow/tensorflow/compiler/xla/service/gpu/gpu_compiler.cc:1272] --xla_hlo_profile for GPU is unsupported.\n",
      "2023-02-09 20:26:34.041906: E external/org_tensorflow/tensorflow/compiler/xla/service/gpu/gpu_compiler.cc:1272] --xla_hlo_profile for GPU is unsupported.\n",
      "2023-02-09 20:26:34.140685: E external/org_tensorflow/tensorflow/compiler/xla/service/gpu/gpu_compiler.cc:1272] --xla_hlo_profile for GPU is unsupported.\n",
      "2023-02-09 20:26:34.237646: E external/org_tensorflow/tensorflow/compiler/xla/service/gpu/gpu_compiler.cc:1272] --xla_hlo_profile for GPU is unsupported.\n",
      "2023-02-09 20:26:34.257603: E external/org_tensorflow/tensorflow/compiler/xla/service/gpu/gpu_compiler.cc:1272] --xla_hlo_profile for GPU is unsupported.\n",
      "2023-02-09 20:26:34.348754: E external/org_tensorflow/tensorflow/compiler/xla/service/gpu/gpu_compiler.cc:1272] --xla_hlo_profile for GPU is unsupported.\n",
      "2023-02-09 20:26:34.530982: E external/org_tensorflow/tensorflow/compiler/xla/service/gpu/gpu_compiler.cc:1272] --xla_hlo_profile for GPU is unsupported.\n",
      "2023-02-09 20:26:34.540955: E external/org_tensorflow/tensorflow/compiler/xla/service/gpu/gpu_compiler.cc:1272] --xla_hlo_profile for GPU is unsupported.\n",
      "2023-02-09 20:26:34.686005: E external/org_tensorflow/tensorflow/compiler/xla/service/gpu/gpu_compiler.cc:1272] --xla_hlo_profile for GPU is unsupported.\n",
      "2023-02-09 20:26:34.769629: E external/org_tensorflow/tensorflow/compiler/xla/service/gpu/gpu_compiler.cc:1272] --xla_hlo_profile for GPU is unsupported.\n",
      "2023-02-09 20:26:34.784341: E external/org_tensorflow/tensorflow/compiler/xla/service/gpu/gpu_compiler.cc:1272] --xla_hlo_profile for GPU is unsupported.\n",
      "2023-02-09 20:26:34.869200: E external/org_tensorflow/tensorflow/compiler/xla/service/gpu/gpu_compiler.cc:1272] --xla_hlo_profile for GPU is unsupported.\n",
      "2023-02-09 20:26:34.888472: E external/org_tensorflow/tensorflow/compiler/xla/service/gpu/gpu_compiler.cc:1272] --xla_hlo_profile for GPU is unsupported.\n",
      "2023-02-09 20:26:34.971992: E external/org_tensorflow/tensorflow/compiler/xla/service/gpu/gpu_compiler.cc:1272] --xla_hlo_profile for GPU is unsupported.\n",
      "2023-02-09 20:26:35.052916: E external/org_tensorflow/tensorflow/compiler/xla/service/gpu/gpu_compiler.cc:1272] --xla_hlo_profile for GPU is unsupported.\n",
      "2023-02-09 20:26:35.067807: E external/org_tensorflow/tensorflow/compiler/xla/service/gpu/gpu_compiler.cc:1272] --xla_hlo_profile for GPU is unsupported.\n",
      "2023-02-09 20:26:35.077683: E external/org_tensorflow/tensorflow/compiler/xla/service/gpu/gpu_compiler.cc:1272] --xla_hlo_profile for GPU is unsupported.\n",
      "2023-02-09 20:26:35.092900: E external/org_tensorflow/tensorflow/compiler/xla/service/gpu/gpu_compiler.cc:1272] --xla_hlo_profile for GPU is unsupported.\n"
     ]
    },
    {
     "data": {
      "image/png": "[encoded data removed]",
      "text/plain": [
       "<Figure size 360x360 with 4 Axes>"
      ]
     },
     "metadata": {
      "needs_background": "light"
     },
     "output_type": "display_data"
    }
   ],
   "source": [
    "# y, _ = compressor.apply(\n",
    "#     parameters_compressor, opt_state_resnet, None, m_data.reshape([1,128,128,1])\n",
    "# )\n",
    "# nvp_sample_nd = hk.transform(\n",
    "#     lambda x : SmoothNPE()(x).sample(len(samples_ps), seed=hk.next_rng_key())\n",
    "# )\n",
    "# sample_nd = nvp_sample_nd.apply(\n",
    "#     params_nd, \n",
    "#     rng = jax.random.PRNGKey(43), \n",
    "#     x = y*jnp.ones([len(samples_ps),2])\n",
    "# )\n",
    "\n",
    "\n",
    "# c = ChainConsumer()\n",
    "# c.add_chain(samples_ps, parameters=[\"$\\Omega_c$\", \"$\\sigma_8$\"], name='Power Spectrum')\n",
    "# c.add_chain(samples_ff, parameters=[\"$\\Omega_c$\", \"$\\sigma_8$\"], name='Full Field')\n",
    "# c.add_chain(sample_nd, parameters=[\"$\\Omega_c$\", \"$\\sigma_8$\"], name='SBI')\n",
    "# fig = c.plotter.plot(figsize=\"column\", truth = [0.3,0.8])"
   ]
  },
  {
   "cell_type": "code",
   "execution_count": null,
   "id": "75kPHaecSN21",
   "metadata": {
    "id": "75kPHaecSN21"
   },
   "outputs": [],
   "source": []
  }
 ],
 "metadata": {
  "accelerator": "GPU",
  "colab": {
   "collapsed_sections": [
    "2425d539-bdc6-45be-a5c0-7a0d3c9d8969",
    "41298e75-602a-4107-a0ee-f5e544c25d7b",
    "db6a7de9-b5fb-4c99-a0cb-4e0527312a48",
    "36765925-075b-4991-a2ef-7bd15bb83b22",
    "4fa76e15-70f4-4d82-b5d1-f410439db650",
    "dbdb56c6-5557-41d7-a8d8-65b8314709af",
    "6c4c2b95-005b-47c5-8e41-54af975491ef"
   ],
   "include_colab_link": true,
   "provenance": []
  },
  "gpuClass": "standard",
  "kernelspec": {
   "display_name": "tensorflow-2.7.0_py3.9",
   "language": "python",
   "name": "module-conda-env-tensorflow-2.7.0_py3.9"
  },
  "language_info": {
   "codemirror_mode": {
    "name": "ipython",
    "version": 3
   },
   "file_extension": ".py",
   "mimetype": "text/x-python",
   "name": "python",
   "nbconvert_exporter": "python",
   "pygments_lexer": "ipython3",
   "version": "3.9.7"
  },
  "widgets": {
   "application/vnd.jupyter.widget-state+json": {
    "0b7dc127afb6435cb2c16d02d2a8544c": {
     "model_module": "@jupyter-widgets/controls",
     "model_module_version": "1.5.0",
     "model_name": "DescriptionStyleModel",
     "state": {
      "_model_module": "@jupyter-widgets/controls",
      "_model_module_version": "1.5.0",
      "_model_name": "DescriptionStyleModel",
      "_view_count": null,
      "_view_module": "@jupyter-widgets/base",
      "_view_module_version": "1.2.0",
      "_view_name": "StyleView",
      "description_width": ""
     }
    },
    "1475e2188dce460887433ac88fee9a3c": {
     "model_module": "@jupyter-widgets/base",
     "model_module_version": "1.2.0",
     "model_name": "LayoutModel",
     "state": {
      "_model_module": "@jupyter-widgets/base",
      "_model_module_version": "1.2.0",
      "_model_name": "LayoutModel",
      "_view_count": null,
      "_view_module": "@jupyter-widgets/base",
      "_view_module_version": "1.2.0",
      "_view_name": "LayoutView",
      "align_content": null,
      "align_items": null,
      "align_self": null,
      "border": null,
      "bottom": null,
      "display": null,
      "flex": null,
      "flex_flow": null,
      "grid_area": null,
      "grid_auto_columns": null,
      "grid_auto_flow": null,
      "grid_auto_rows": null,
      "grid_column": null,
      "grid_gap": null,
      "grid_row": null,
      "grid_template_areas": null,
      "grid_template_columns": null,
      "grid_template_rows": null,
      "height": null,
      "justify_content": null,
      "justify_items": null,
      "left": null,
      "margin": null,
      "max_height": null,
      "max_width": null,
      "min_height": null,
      "min_width": null,
      "object_fit": null,
      "object_position": null,
      "order": null,
      "overflow": null,
      "overflow_x": null,
      "overflow_y": null,
      "padding": null,
      "right": null,
      "top": null,
      "visibility": null,
      "width": "20px"
     }
    },
    "15c4461aa194494e8c857029743013b5": {
     "model_module": "@jupyter-widgets/controls",
     "model_module_version": "1.5.0",
     "model_name": "HTMLModel",
     "state": {
      "_dom_classes": [],
      "_model_module": "@jupyter-widgets/controls",
      "_model_module_version": "1.5.0",
      "_model_name": "HTMLModel",
      "_view_count": null,
      "_view_module": "@jupyter-widgets/controls",
      "_view_module_version": "1.5.0",
      "_view_name": "HTMLView",
      "description": "",
      "description_tooltip": null,
      "layout": "IPY_MODEL_4d32fb5ded41439ab2febecc43a6f146",
      "placeholder": "​",
      "style": "IPY_MODEL_1e0f33a5fa6f40ef83aa96f2e59e48a0",
      "value": " 1/1 [16:06&lt;00:00, 966.26s/ splits]"
     }
    },
    "1821fa7b13d14ae68e8d4386c00b3713": {
     "model_module": "@jupyter-widgets/controls",
     "model_module_version": "1.5.0",
     "model_name": "HTMLModel",
     "state": {
      "_dom_classes": [],
      "_model_module": "@jupyter-widgets/controls",
      "_model_module_version": "1.5.0",
      "_model_name": "HTMLModel",
      "_view_count": null,
      "_view_module": "@jupyter-widgets/controls",
      "_view_module_version": "1.5.0",
      "_view_name": "HTMLView",
      "description": "",
      "description_tooltip": null,
      "layout": "IPY_MODEL_485dd95004da454b97fe8cf683f1f8b6",
      "placeholder": "​",
      "style": "IPY_MODEL_0b7dc127afb6435cb2c16d02d2a8544c",
      "value": "Generating splits...: 100%"
     }
    },
    "1e0f33a5fa6f40ef83aa96f2e59e48a0": {
     "model_module": "@jupyter-widgets/controls",
     "model_module_version": "1.5.0",
     "model_name": "DescriptionStyleModel",
     "state": {
      "_model_module": "@jupyter-widgets/controls",
      "_model_module_version": "1.5.0",
      "_model_name": "DescriptionStyleModel",
      "_view_count": null,
      "_view_module": "@jupyter-widgets/base",
      "_view_module_version": "1.2.0",
      "_view_name": "StyleView",
      "description_width": ""
     }
    },
    "20f1d1b5b43043d28d25b710f704d32f": {
     "model_module": "@jupyter-widgets/controls",
     "model_module_version": "1.5.0",
     "model_name": "FloatProgressModel",
     "state": {
      "_dom_classes": [],
      "_model_module": "@jupyter-widgets/controls",
      "_model_module_version": "1.5.0",
      "_model_name": "FloatProgressModel",
      "_view_count": null,
      "_view_module": "@jupyter-widgets/controls",
      "_view_module_version": "1.5.0",
      "_view_name": "ProgressView",
      "bar_style": "",
      "description": "",
      "description_tooltip": null,
      "layout": "IPY_MODEL_d4bfcf6d7923492fba166416394be94e",
      "max": 1,
      "min": 0,
      "orientation": "horizontal",
      "style": "IPY_MODEL_807509b008cc44c4813e9a7182fadc2c",
      "value": 1
     }
    },
    "237c2dfd68c64fc590861fba3ee9da52": {
     "model_module": "@jupyter-widgets/controls",
     "model_module_version": "1.5.0",
     "model_name": "HTMLModel",
     "state": {
      "_dom_classes": [],
      "_model_module": "@jupyter-widgets/controls",
      "_model_module_version": "1.5.0",
      "_model_name": "HTMLModel",
      "_view_count": null,
      "_view_module": "@jupyter-widgets/controls",
      "_view_module_version": "1.5.0",
      "_view_name": "HTMLView",
      "description": "",
      "description_tooltip": null,
      "layout": "IPY_MODEL_7f64686efd454858a3a455c7aa0c2ed4",
      "placeholder": "​",
      "style": "IPY_MODEL_8ac83bf2a11a4f05b7ce06be929a79e0",
      "value": " 99993/? [15:09&lt;00:00, 144.90 examples/s]"
     }
    },
    "2917a71c63814c3a9ac95a331780776f": {
     "model_module": "@jupyter-widgets/base",
     "model_module_version": "1.2.0",
     "model_name": "LayoutModel",
     "state": {
      "_model_module": "@jupyter-widgets/base",
      "_model_module_version": "1.2.0",
      "_model_name": "LayoutModel",
      "_view_count": null,
      "_view_module": "@jupyter-widgets/base",
      "_view_module_version": "1.2.0",
      "_view_name": "LayoutView",
      "align_content": null,
      "align_items": null,
      "align_self": null,
      "border": null,
      "bottom": null,
      "display": null,
      "flex": null,
      "flex_flow": null,
      "grid_area": null,
      "grid_auto_columns": null,
      "grid_auto_flow": null,
      "grid_auto_rows": null,
      "grid_column": null,
      "grid_gap": null,
      "grid_row": null,
      "grid_template_areas": null,
      "grid_template_columns": null,
      "grid_template_rows": null,
      "height": null,
      "justify_content": null,
      "justify_items": null,
      "left": null,
      "margin": null,
      "max_height": null,
      "max_width": null,
      "min_height": null,
      "min_width": null,
      "object_fit": null,
      "object_position": null,
      "order": null,
      "overflow": null,
      "overflow_x": null,
      "overflow_y": null,
      "padding": null,
      "right": null,
      "top": null,
      "visibility": "hidden",
      "width": null
     }
    },
    "30dd509e721e4cb098c13ddac29db553": {
     "model_module": "@jupyter-widgets/controls",
     "model_module_version": "1.5.0",
     "model_name": "HTMLModel",
     "state": {
      "_dom_classes": [],
      "_model_module": "@jupyter-widgets/controls",
      "_model_module_version": "1.5.0",
      "_model_name": "HTMLModel",
      "_view_count": null,
      "_view_module": "@jupyter-widgets/controls",
      "_view_module_version": "1.5.0",
      "_view_name": "HTMLView",
      "description": "",
      "description_tooltip": null,
      "layout": "IPY_MODEL_e0c45e3a66574b3886dc2164f18db88b",
      "placeholder": "​",
      "style": "IPY_MODEL_c52f590ef7754cbf903a9d3b9490688a",
      "value": "Generating train examples...: "
     }
    },
    "3fa74ae7434d40228e003b36e8ed62b2": {
     "model_module": "@jupyter-widgets/controls",
     "model_module_version": "1.5.0",
     "model_name": "HTMLModel",
     "state": {
      "_dom_classes": [],
      "_model_module": "@jupyter-widgets/controls",
      "_model_module_version": "1.5.0",
      "_model_name": "HTMLModel",
      "_view_count": null,
      "_view_module": "@jupyter-widgets/controls",
      "_view_module_version": "1.5.0",
      "_view_name": "HTMLView",
      "description": "",
      "description_tooltip": null,
      "layout": "IPY_MODEL_ebe780de3e264441b3eb6e01c252e613",
      "placeholder": "​",
      "style": "IPY_MODEL_544bd65d1c9040ca838afe3892a22dc6",
      "value": "Shuffling tensorflow_dataset/lensing_log_normal_dataset/toy_model_without_noise_score_density/0.0.1.incompleteOV1EEX/lensing_log_normal_dataset-train.tfrecord*...: 100%"
     }
    },
    "485dd95004da454b97fe8cf683f1f8b6": {
     "model_module": "@jupyter-widgets/base",
     "model_module_version": "1.2.0",
     "model_name": "LayoutModel",
     "state": {
      "_model_module": "@jupyter-widgets/base",
      "_model_module_version": "1.2.0",
      "_model_name": "LayoutModel",
      "_view_count": null,
      "_view_module": "@jupyter-widgets/base",
      "_view_module_version": "1.2.0",
      "_view_name": "LayoutView",
      "align_content": null,
      "align_items": null,
      "align_self": null,
      "border": null,
      "bottom": null,
      "display": null,
      "flex": null,
      "flex_flow": null,
      "grid_area": null,
      "grid_auto_columns": null,
      "grid_auto_flow": null,
      "grid_auto_rows": null,
      "grid_column": null,
      "grid_gap": null,
      "grid_row": null,
      "grid_template_areas": null,
      "grid_template_columns": null,
      "grid_template_rows": null,
      "height": null,
      "justify_content": null,
      "justify_items": null,
      "left": null,
      "margin": null,
      "max_height": null,
      "max_width": null,
      "min_height": null,
      "min_width": null,
      "object_fit": null,
      "object_position": null,
      "order": null,
      "overflow": null,
      "overflow_x": null,
      "overflow_y": null,
      "padding": null,
      "right": null,
      "top": null,
      "visibility": null,
      "width": null
     }
    },
    "4d32fb5ded41439ab2febecc43a6f146": {
     "model_module": "@jupyter-widgets/base",
     "model_module_version": "1.2.0",
     "model_name": "LayoutModel",
     "state": {
      "_model_module": "@jupyter-widgets/base",
      "_model_module_version": "1.2.0",
      "_model_name": "LayoutModel",
      "_view_count": null,
      "_view_module": "@jupyter-widgets/base",
      "_view_module_version": "1.2.0",
      "_view_name": "LayoutView",
      "align_content": null,
      "align_items": null,
      "align_self": null,
      "border": null,
      "bottom": null,
      "display": null,
      "flex": null,
      "flex_flow": null,
      "grid_area": null,
      "grid_auto_columns": null,
      "grid_auto_flow": null,
      "grid_auto_rows": null,
      "grid_column": null,
      "grid_gap": null,
      "grid_row": null,
      "grid_template_areas": null,
      "grid_template_columns": null,
      "grid_template_rows": null,
      "height": null,
      "justify_content": null,
      "justify_items": null,
      "left": null,
      "margin": null,
      "max_height": null,
      "max_width": null,
      "min_height": null,
      "min_width": null,
      "object_fit": null,
      "object_position": null,
      "order": null,
      "overflow": null,
      "overflow_x": null,
      "overflow_y": null,
      "padding": null,
      "right": null,
      "top": null,
      "visibility": null,
      "width": null
     }
    },
    "501eb8ee35d04be99b9354e95e80a177": {
     "model_module": "@jupyter-widgets/controls",
     "model_module_version": "1.5.0",
     "model_name": "ProgressStyleModel",
     "state": {
      "_model_module": "@jupyter-widgets/controls",
      "_model_module_version": "1.5.0",
      "_model_name": "ProgressStyleModel",
      "_view_count": null,
      "_view_module": "@jupyter-widgets/base",
      "_view_module_version": "1.2.0",
      "_view_name": "StyleView",
      "bar_color": null,
      "description_width": ""
     }
    },
    "544bd65d1c9040ca838afe3892a22dc6": {
     "model_module": "@jupyter-widgets/controls",
     "model_module_version": "1.5.0",
     "model_name": "DescriptionStyleModel",
     "state": {
      "_model_module": "@jupyter-widgets/controls",
      "_model_module_version": "1.5.0",
      "_model_name": "DescriptionStyleModel",
      "_view_count": null,
      "_view_module": "@jupyter-widgets/base",
      "_view_module_version": "1.2.0",
      "_view_name": "StyleView",
      "description_width": ""
     }
    },
    "5c80329934404e4296875311c92021cb": {
     "model_module": "@jupyter-widgets/controls",
     "model_module_version": "1.5.0",
     "model_name": "ProgressStyleModel",
     "state": {
      "_model_module": "@jupyter-widgets/controls",
      "_model_module_version": "1.5.0",
      "_model_name": "ProgressStyleModel",
      "_view_count": null,
      "_view_module": "@jupyter-widgets/base",
      "_view_module_version": "1.2.0",
      "_view_name": "StyleView",
      "bar_color": null,
      "description_width": ""
     }
    },
    "6377527360ba47acb7e57de953a44a72": {
     "model_module": "@jupyter-widgets/controls",
     "model_module_version": "1.5.0",
     "model_name": "FloatProgressModel",
     "state": {
      "_dom_classes": [],
      "_model_module": "@jupyter-widgets/controls",
      "_model_module_version": "1.5.0",
      "_model_name": "FloatProgressModel",
      "_view_count": null,
      "_view_module": "@jupyter-widgets/controls",
      "_view_module_version": "1.5.0",
      "_view_name": "ProgressView",
      "bar_style": "",
      "description": "",
      "description_tooltip": null,
      "layout": "IPY_MODEL_742c082845de416eb1d5e5fea3809262",
      "max": 100000,
      "min": 0,
      "orientation": "horizontal",
      "style": "IPY_MODEL_501eb8ee35d04be99b9354e95e80a177",
      "value": 100000
     }
    },
    "6867b730248d4b848db0caade632a374": {
     "model_module": "@jupyter-widgets/controls",
     "model_module_version": "1.5.0",
     "model_name": "HBoxModel",
     "state": {
      "_dom_classes": [],
      "_model_module": "@jupyter-widgets/controls",
      "_model_module_version": "1.5.0",
      "_model_name": "HBoxModel",
      "_view_count": null,
      "_view_module": "@jupyter-widgets/controls",
      "_view_module_version": "1.5.0",
      "_view_name": "HBoxView",
      "box_style": "",
      "children": [
       "IPY_MODEL_1821fa7b13d14ae68e8d4386c00b3713",
       "IPY_MODEL_20f1d1b5b43043d28d25b710f704d32f",
       "IPY_MODEL_15c4461aa194494e8c857029743013b5"
      ],
      "layout": "IPY_MODEL_2917a71c63814c3a9ac95a331780776f"
     }
    },
    "742c082845de416eb1d5e5fea3809262": {
     "model_module": "@jupyter-widgets/base",
     "model_module_version": "1.2.0",
     "model_name": "LayoutModel",
     "state": {
      "_model_module": "@jupyter-widgets/base",
      "_model_module_version": "1.2.0",
      "_model_name": "LayoutModel",
      "_view_count": null,
      "_view_module": "@jupyter-widgets/base",
      "_view_module_version": "1.2.0",
      "_view_name": "LayoutView",
      "align_content": null,
      "align_items": null,
      "align_self": null,
      "border": null,
      "bottom": null,
      "display": null,
      "flex": null,
      "flex_flow": null,
      "grid_area": null,
      "grid_auto_columns": null,
      "grid_auto_flow": null,
      "grid_auto_rows": null,
      "grid_column": null,
      "grid_gap": null,
      "grid_row": null,
      "grid_template_areas": null,
      "grid_template_columns": null,
      "grid_template_rows": null,
      "height": null,
      "justify_content": null,
      "justify_items": null,
      "left": null,
      "margin": null,
      "max_height": null,
      "max_width": null,
      "min_height": null,
      "min_width": null,
      "object_fit": null,
      "object_position": null,
      "order": null,
      "overflow": null,
      "overflow_x": null,
      "overflow_y": null,
      "padding": null,
      "right": null,
      "top": null,
      "visibility": null,
      "width": null
     }
    },
    "7a2bf92b1201442f9d287c79fc0ab0dc": {
     "model_module": "@jupyter-widgets/controls",
     "model_module_version": "1.5.0",
     "model_name": "FloatProgressModel",
     "state": {
      "_dom_classes": [],
      "_model_module": "@jupyter-widgets/controls",
      "_model_module_version": "1.5.0",
      "_model_name": "FloatProgressModel",
      "_view_count": null,
      "_view_module": "@jupyter-widgets/controls",
      "_view_module_version": "1.5.0",
      "_view_name": "ProgressView",
      "bar_style": "info",
      "description": "",
      "description_tooltip": null,
      "layout": "IPY_MODEL_1475e2188dce460887433ac88fee9a3c",
      "max": 1,
      "min": 0,
      "orientation": "horizontal",
      "style": "IPY_MODEL_5c80329934404e4296875311c92021cb",
      "value": 1
     }
    },
    "7f64686efd454858a3a455c7aa0c2ed4": {
     "model_module": "@jupyter-widgets/base",
     "model_module_version": "1.2.0",
     "model_name": "LayoutModel",
     "state": {
      "_model_module": "@jupyter-widgets/base",
      "_model_module_version": "1.2.0",
      "_model_name": "LayoutModel",
      "_view_count": null,
      "_view_module": "@jupyter-widgets/base",
      "_view_module_version": "1.2.0",
      "_view_name": "LayoutView",
      "align_content": null,
      "align_items": null,
      "align_self": null,
      "border": null,
      "bottom": null,
      "display": null,
      "flex": null,
      "flex_flow": null,
      "grid_area": null,
      "grid_auto_columns": null,
      "grid_auto_flow": null,
      "grid_auto_rows": null,
      "grid_column": null,
      "grid_gap": null,
      "grid_row": null,
      "grid_template_areas": null,
      "grid_template_columns": null,
      "grid_template_rows": null,
      "height": null,
      "justify_content": null,
      "justify_items": null,
      "left": null,
      "margin": null,
      "max_height": null,
      "max_width": null,
      "min_height": null,
      "min_width": null,
      "object_fit": null,
      "object_position": null,
      "order": null,
      "overflow": null,
      "overflow_x": null,
      "overflow_y": null,
      "padding": null,
      "right": null,
      "top": null,
      "visibility": null,
      "width": null
     }
    },
    "807509b008cc44c4813e9a7182fadc2c": {
     "model_module": "@jupyter-widgets/controls",
     "model_module_version": "1.5.0",
     "model_name": "ProgressStyleModel",
     "state": {
      "_model_module": "@jupyter-widgets/controls",
      "_model_module_version": "1.5.0",
      "_model_name": "ProgressStyleModel",
      "_view_count": null,
      "_view_module": "@jupyter-widgets/base",
      "_view_module_version": "1.2.0",
      "_view_name": "StyleView",
      "bar_color": null,
      "description_width": ""
     }
    },
    "845533ab0c4c444598b17d8f5d515843": {
     "model_module": "@jupyter-widgets/controls",
     "model_module_version": "1.5.0",
     "model_name": "DescriptionStyleModel",
     "state": {
      "_model_module": "@jupyter-widgets/controls",
      "_model_module_version": "1.5.0",
      "_model_name": "DescriptionStyleModel",
      "_view_count": null,
      "_view_module": "@jupyter-widgets/base",
      "_view_module_version": "1.2.0",
      "_view_name": "StyleView",
      "description_width": ""
     }
    },
    "88ffe6e8a40144399fbe5b77141ea81e": {
     "model_module": "@jupyter-widgets/controls",
     "model_module_version": "1.5.0",
     "model_name": "HTMLModel",
     "state": {
      "_dom_classes": [],
      "_model_module": "@jupyter-widgets/controls",
      "_model_module_version": "1.5.0",
      "_model_name": "HTMLModel",
      "_view_count": null,
      "_view_module": "@jupyter-widgets/controls",
      "_view_module_version": "1.5.0",
      "_view_name": "HTMLView",
      "description": "",
      "description_tooltip": null,
      "layout": "IPY_MODEL_f0117a6bfda7432e97d93603e1581ca4",
      "placeholder": "​",
      "style": "IPY_MODEL_845533ab0c4c444598b17d8f5d515843",
      "value": " 99916/100000 [00:56&lt;00:00, 1758.05 examples/s]"
     }
    },
    "8ac83bf2a11a4f05b7ce06be929a79e0": {
     "model_module": "@jupyter-widgets/controls",
     "model_module_version": "1.5.0",
     "model_name": "DescriptionStyleModel",
     "state": {
      "_model_module": "@jupyter-widgets/controls",
      "_model_module_version": "1.5.0",
      "_model_name": "DescriptionStyleModel",
      "_view_count": null,
      "_view_module": "@jupyter-widgets/base",
      "_view_module_version": "1.2.0",
      "_view_name": "StyleView",
      "description_width": ""
     }
    },
    "9bc1ee1f0dc247cb9bb6caae669d3a29": {
     "model_module": "@jupyter-widgets/base",
     "model_module_version": "1.2.0",
     "model_name": "LayoutModel",
     "state": {
      "_model_module": "@jupyter-widgets/base",
      "_model_module_version": "1.2.0",
      "_model_name": "LayoutModel",
      "_view_count": null,
      "_view_module": "@jupyter-widgets/base",
      "_view_module_version": "1.2.0",
      "_view_name": "LayoutView",
      "align_content": null,
      "align_items": null,
      "align_self": null,
      "border": null,
      "bottom": null,
      "display": null,
      "flex": null,
      "flex_flow": null,
      "grid_area": null,
      "grid_auto_columns": null,
      "grid_auto_flow": null,
      "grid_auto_rows": null,
      "grid_column": null,
      "grid_gap": null,
      "grid_row": null,
      "grid_template_areas": null,
      "grid_template_columns": null,
      "grid_template_rows": null,
      "height": null,
      "justify_content": null,
      "justify_items": null,
      "left": null,
      "margin": null,
      "max_height": null,
      "max_width": null,
      "min_height": null,
      "min_width": null,
      "object_fit": null,
      "object_position": null,
      "order": null,
      "overflow": null,
      "overflow_x": null,
      "overflow_y": null,
      "padding": null,
      "right": null,
      "top": null,
      "visibility": "hidden",
      "width": null
     }
    },
    "ad85cb1447b9438281dfce803e04db08": {
     "model_module": "@jupyter-widgets/controls",
     "model_module_version": "1.5.0",
     "model_name": "HBoxModel",
     "state": {
      "_dom_classes": [],
      "_model_module": "@jupyter-widgets/controls",
      "_model_module_version": "1.5.0",
      "_model_name": "HBoxModel",
      "_view_count": null,
      "_view_module": "@jupyter-widgets/controls",
      "_view_module_version": "1.5.0",
      "_view_name": "HBoxView",
      "box_style": "",
      "children": [
       "IPY_MODEL_30dd509e721e4cb098c13ddac29db553",
       "IPY_MODEL_7a2bf92b1201442f9d287c79fc0ab0dc",
       "IPY_MODEL_237c2dfd68c64fc590861fba3ee9da52"
      ],
      "layout": "IPY_MODEL_9bc1ee1f0dc247cb9bb6caae669d3a29"
     }
    },
    "c52f590ef7754cbf903a9d3b9490688a": {
     "model_module": "@jupyter-widgets/controls",
     "model_module_version": "1.5.0",
     "model_name": "DescriptionStyleModel",
     "state": {
      "_model_module": "@jupyter-widgets/controls",
      "_model_module_version": "1.5.0",
      "_model_name": "DescriptionStyleModel",
      "_view_count": null,
      "_view_module": "@jupyter-widgets/base",
      "_view_module_version": "1.2.0",
      "_view_name": "StyleView",
      "description_width": ""
     }
    },
    "d340c56763d94b18b1a3c72b2ef11311": {
     "model_module": "@jupyter-widgets/base",
     "model_module_version": "1.2.0",
     "model_name": "LayoutModel",
     "state": {
      "_model_module": "@jupyter-widgets/base",
      "_model_module_version": "1.2.0",
      "_model_name": "LayoutModel",
      "_view_count": null,
      "_view_module": "@jupyter-widgets/base",
      "_view_module_version": "1.2.0",
      "_view_name": "LayoutView",
      "align_content": null,
      "align_items": null,
      "align_self": null,
      "border": null,
      "bottom": null,
      "display": null,
      "flex": null,
      "flex_flow": null,
      "grid_area": null,
      "grid_auto_columns": null,
      "grid_auto_flow": null,
      "grid_auto_rows": null,
      "grid_column": null,
      "grid_gap": null,
      "grid_row": null,
      "grid_template_areas": null,
      "grid_template_columns": null,
      "grid_template_rows": null,
      "height": null,
      "justify_content": null,
      "justify_items": null,
      "left": null,
      "margin": null,
      "max_height": null,
      "max_width": null,
      "min_height": null,
      "min_width": null,
      "object_fit": null,
      "object_position": null,
      "order": null,
      "overflow": null,
      "overflow_x": null,
      "overflow_y": null,
      "padding": null,
      "right": null,
      "top": null,
      "visibility": "hidden",
      "width": null
     }
    },
    "d4bfcf6d7923492fba166416394be94e": {
     "model_module": "@jupyter-widgets/base",
     "model_module_version": "1.2.0",
     "model_name": "LayoutModel",
     "state": {
      "_model_module": "@jupyter-widgets/base",
      "_model_module_version": "1.2.0",
      "_model_name": "LayoutModel",
      "_view_count": null,
      "_view_module": "@jupyter-widgets/base",
      "_view_module_version": "1.2.0",
      "_view_name": "LayoutView",
      "align_content": null,
      "align_items": null,
      "align_self": null,
      "border": null,
      "bottom": null,
      "display": null,
      "flex": null,
      "flex_flow": null,
      "grid_area": null,
      "grid_auto_columns": null,
      "grid_auto_flow": null,
      "grid_auto_rows": null,
      "grid_column": null,
      "grid_gap": null,
      "grid_row": null,
      "grid_template_areas": null,
      "grid_template_columns": null,
      "grid_template_rows": null,
      "height": null,
      "justify_content": null,
      "justify_items": null,
      "left": null,
      "margin": null,
      "max_height": null,
      "max_width": null,
      "min_height": null,
      "min_width": null,
      "object_fit": null,
      "object_position": null,
      "order": null,
      "overflow": null,
      "overflow_x": null,
      "overflow_y": null,
      "padding": null,
      "right": null,
      "top": null,
      "visibility": null,
      "width": null
     }
    },
    "e0c45e3a66574b3886dc2164f18db88b": {
     "model_module": "@jupyter-widgets/base",
     "model_module_version": "1.2.0",
     "model_name": "LayoutModel",
     "state": {
      "_model_module": "@jupyter-widgets/base",
      "_model_module_version": "1.2.0",
      "_model_name": "LayoutModel",
      "_view_count": null,
      "_view_module": "@jupyter-widgets/base",
      "_view_module_version": "1.2.0",
      "_view_name": "LayoutView",
      "align_content": null,
      "align_items": null,
      "align_self": null,
      "border": null,
      "bottom": null,
      "display": null,
      "flex": null,
      "flex_flow": null,
      "grid_area": null,
      "grid_auto_columns": null,
      "grid_auto_flow": null,
      "grid_auto_rows": null,
      "grid_column": null,
      "grid_gap": null,
      "grid_row": null,
      "grid_template_areas": null,
      "grid_template_columns": null,
      "grid_template_rows": null,
      "height": null,
      "justify_content": null,
      "justify_items": null,
      "left": null,
      "margin": null,
      "max_height": null,
      "max_width": null,
      "min_height": null,
      "min_width": null,
      "object_fit": null,
      "object_position": null,
      "order": null,
      "overflow": null,
      "overflow_x": null,
      "overflow_y": null,
      "padding": null,
      "right": null,
      "top": null,
      "visibility": null,
      "width": null
     }
    },
    "e900c879829b41719e0ad248ddc9db45": {
     "model_module": "@jupyter-widgets/controls",
     "model_module_version": "1.5.0",
     "model_name": "HBoxModel",
     "state": {
      "_dom_classes": [],
      "_model_module": "@jupyter-widgets/controls",
      "_model_module_version": "1.5.0",
      "_model_name": "HBoxModel",
      "_view_count": null,
      "_view_module": "@jupyter-widgets/controls",
      "_view_module_version": "1.5.0",
      "_view_name": "HBoxView",
      "box_style": "",
      "children": [
       "IPY_MODEL_3fa74ae7434d40228e003b36e8ed62b2",
       "IPY_MODEL_6377527360ba47acb7e57de953a44a72",
       "IPY_MODEL_88ffe6e8a40144399fbe5b77141ea81e"
      ],
      "layout": "IPY_MODEL_d340c56763d94b18b1a3c72b2ef11311"
     }
    },
    "ebe780de3e264441b3eb6e01c252e613": {
     "model_module": "@jupyter-widgets/base",
     "model_module_version": "1.2.0",
     "model_name": "LayoutModel",
     "state": {
      "_model_module": "@jupyter-widgets/base",
      "_model_module_version": "1.2.0",
      "_model_name": "LayoutModel",
      "_view_count": null,
      "_view_module": "@jupyter-widgets/base",
      "_view_module_version": "1.2.0",
      "_view_name": "LayoutView",
      "align_content": null,
      "align_items": null,
      "align_self": null,
      "border": null,
      "bottom": null,
      "display": null,
      "flex": null,
      "flex_flow": null,
      "grid_area": null,
      "grid_auto_columns": null,
      "grid_auto_flow": null,
      "grid_auto_rows": null,
      "grid_column": null,
      "grid_gap": null,
      "grid_row": null,
      "grid_template_areas": null,
      "grid_template_columns": null,
      "grid_template_rows": null,
      "height": null,
      "justify_content": null,
      "justify_items": null,
      "left": null,
      "margin": null,
      "max_height": null,
      "max_width": null,
      "min_height": null,
      "min_width": null,
      "object_fit": null,
      "object_position": null,
      "order": null,
      "overflow": null,
      "overflow_x": null,
      "overflow_y": null,
      "padding": null,
      "right": null,
      "top": null,
      "visibility": null,
      "width": null
     }
    },
    "f0117a6bfda7432e97d93603e1581ca4": {
     "model_module": "@jupyter-widgets/base",
     "model_module_version": "1.2.0",
     "model_name": "LayoutModel",
     "state": {
      "_model_module": "@jupyter-widgets/base",
      "_model_module_version": "1.2.0",
      "_model_name": "LayoutModel",
      "_view_count": null,
      "_view_module": "@jupyter-widgets/base",
      "_view_module_version": "1.2.0",
      "_view_name": "LayoutView",
      "align_content": null,
      "align_items": null,
      "align_self": null,
      "border": null,
      "bottom": null,
      "display": null,
      "flex": null,
      "flex_flow": null,
      "grid_area": null,
      "grid_auto_columns": null,
      "grid_auto_flow": null,
      "grid_auto_rows": null,
      "grid_column": null,
      "grid_gap": null,
      "grid_row": null,
      "grid_template_areas": null,
      "grid_template_columns": null,
      "grid_template_rows": null,
      "height": null,
      "justify_content": null,
      "justify_items": null,
      "left": null,
      "margin": null,
      "max_height": null,
      "max_width": null,
      "min_height": null,
      "min_width": null,
      "object_fit": null,
      "object_position": null,
      "order": null,
      "overflow": null,
      "overflow_x": null,
      "overflow_y": null,
      "padding": null,
      "right": null,
      "top": null,
      "visibility": null,
      "width": null
     }
    }
   }
  }
 },
 "nbformat": 4,
 "nbformat_minor": 5
}
